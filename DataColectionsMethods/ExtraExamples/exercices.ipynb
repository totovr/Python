{
 "cells": [
  {
   "cell_type": "markdown",
   "metadata": {},
   "source": [
    "# Exercices\n",
    "\n",
    "Transform this text:\n",
    "\n",
    "```text\n",
    "un día que el viento soplaba con fuerza#mira como se mueve aquella banderola -dijo un monje#lo que se mueve es el viento -respondió otro monje#ni las banderolas ni el viento, lo que se mueve son vuestras mentes -dijo el maestro\n",
    "```\n",
    "\n",
    "In this new text:\n",
    "\n",
    "```text\n",
    "Un día que el viento soplaba con fuerza...\n",
    "- Mira como se mueve aquella banderola -dijo un monje.\n",
    "- Lo que se mueve es el viento -respondió otro monje.\n",
    "- Ni las banderolas ni el viento, lo que se mueve son vuestras mentes -dijo el maestro.\n",
    "```"
   ]
  },
  {
   "cell_type": "code",
   "execution_count": 4,
   "metadata": {},
   "outputs": [],
   "source": [
    "\n",
    "text = \"un día que el viento soplaba con fuerza#mira como se mueve aquella banderola -dijo un monje#lo que se mueve es el viento -respondió otro monje#ni las banderolas ni el viento, lo que se mueve son vuestras mentes -dijo el maestro\"\n",
    "# Separate the string with the separator and save it in a new list\n",
    "lines = text.split(\"#\")\n",
    "# Use a for to iterate in the list and display the answer\n",
    "counter = 0\n",
    "for l in lines:\n",
    "    if counter == 0:\n",
    "        print(l.capitalize() + \"...\")\n",
    "    else:\n",
    "        print(\"- \" + l.capitalize() + \".\" )\n",
    "    counter += 1"
   ]
  },
  {
   "cell_type": "code",
   "execution_count": 6,
   "metadata": {},
   "outputs": [
    {
     "data": {
      "text/plain": [
       "['un día que el viento soplaba con fuerza',\n",
       " 'mira como se mueve aquella banderola -dijo un monje',\n",
       " 'lo que se mueve es el viento -respondió otro monje',\n",
       " 'ni las banderolas ni el viento, lo que se mueve son vuestras mentes -dijo el maestro']"
      ]
     },
     "execution_count": 6,
     "metadata": {},
     "output_type": "execute_result"
    }
   ],
   "source": [
    "# Separate the string with the separator and save it in a new list\n",
    "lines = text.split(\"#\")\n",
    "# Use a for to iterate in the list and display the answer\n",
    "counter = 0\n",
    "for l in lines:\n",
    "    if counter == 0:\n",
    "        print(l.capitalize() + \"...\")\n",
    "    else:\n",
    "        print(\"- \" + l.capitalize() + \".\" )\n",
    "    counter += 1"
   ]
  },
  {
   "cell_type": "code",
   "execution_count": 14,
   "metadata": {},
   "outputs": [
    {
     "name": "stdout",
     "output_type": "stream",
     "text": [
      "Un día que el viento soplaba con fuerza...\n",
      "- Mira como se mueve aquella banderola -dijo un monje.\n",
      "- Lo que se mueve es el viento -respondió otro monje.\n",
      "- Ni las banderolas ni el viento, lo que se mueve son vuestras mentes -dijo el maestro.\n"
     ]
    }
   ],
   "source": [
    "counter = 0\n",
    "for l in lines:\n",
    "    if counter == 0:\n",
    "        print(l.capitalize() + \"...\")\n",
    "    else:\n",
    "        print(\"- \" + l.capitalize() + \".\" )\n",
    "    counter += 1"
   ]
  },
  {
   "cell_type": "code",
   "execution_count": null,
   "metadata": {},
   "outputs": [],
   "source": []
  }
 ],
 "metadata": {
  "kernelspec": {
   "display_name": "Python 3",
   "language": "python",
   "name": "python3"
  },
  "language_info": {
   "codemirror_mode": {
    "name": "ipython",
    "version": 3
   },
   "file_extension": ".py",
   "mimetype": "text/x-python",
   "name": "python",
   "nbconvert_exporter": "python",
   "pygments_lexer": "ipython3",
   "version": "3.7.1"
  }
 },
 "nbformat": 4,
 "nbformat_minor": 2
}
