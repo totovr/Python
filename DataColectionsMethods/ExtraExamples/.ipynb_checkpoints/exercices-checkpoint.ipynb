{
 "cells": [
  {
   "cell_type": "markdown",
   "metadata": {},
   "source": [
    "# Exercices\n",
    "\n",
    "##### Exercise one \n",
    "\n",
    "Transform this text:\n",
    "\n",
    "```text\n",
    "un día que el viento soplaba con fuerza#mira como se mueve aquella banderola -dijo un monje#lo que se mueve es el viento -respondió otro monje#ni las banderolas ni el viento, lo que se mueve son vuestras mentes -dijo el maestro\n",
    "```\n",
    "\n",
    "In this new text:\n",
    "\n",
    "```text\n",
    "Un día que el viento soplaba con fuerza...\n",
    "- Mira como se mueve aquella banderola -dijo un monje.\n",
    "- Lo que se mueve es el viento -respondió otro monje.\n",
    "- Ni las banderolas ni el viento, lo que se mueve son vuestras mentes -dijo el maestro.\n",
    "```"
   ]
  },
  {
   "cell_type": "code",
   "execution_count": 15,
   "metadata": {},
   "outputs": [
    {
     "name": "stdout",
     "output_type": "stream",
     "text": [
      "Un día que el viento soplaba con fuerza...\n",
      "- Mira como se mueve aquella banderola -dijo un monje.\n",
      "- Lo que se mueve es el viento -respondió otro monje.\n",
      "- Ni las banderolas ni el viento, lo que se mueve son vuestras mentes -dijo el maestro.\n"
     ]
    }
   ],
   "source": [
    "# Save the text as one string \n",
    "text = \"un día que el viento soplaba con fuerza#mira como se mueve aquella banderola -dijo un monje#lo que se mueve es el viento -respondió otro monje#ni las banderolas ni el viento, lo que se mueve son vuestras mentes -dijo el maestro\"\n",
    "# Separate the string with the separator and save it in a new list\n",
    "lines = text.split(\"#\")\n",
    "# Use a for to iterate in the list and display the answer\n",
    "counter = 0\n",
    "for l in lines:\n",
    "    if counter == 0:\n",
    "        print(l.capitalize() + \"...\")\n",
    "    else:\n",
    "        print(\"- \" + l.capitalize() + \".\" )\n",
    "    counter += 1"
   ]
  },
  {
   "cell_type": "code",
   "execution_count": 17,
   "metadata": {},
   "outputs": [
    {
     "name": "stdout",
     "output_type": "stream",
     "text": [
      "Un día que el viento soplaba con fuerza...\n",
      "- Mira como se mueve aquella banderola -dijo un monje.\n",
      "- Lo que se mueve es el viento -respondió otro monje.\n",
      "- Ni las banderolas ni el viento, lo que se mueve son vuestras mentes -dijo el maestro.\n"
     ]
    }
   ],
   "source": [
    "# This is an alternative for the exercise one \n",
    "\n",
    "# Save the text as one string \n",
    "text = \"un día que el viento soplaba con fuerza#mira como se mueve aquella banderola -dijo un monje#lo que se mueve es el viento -respondió otro monje#ni las banderolas ni el viento, lo que se mueve son vuestras mentes -dijo el maestro\"\n",
    "# Separate the string with the separator and save it in a new list\n",
    "lines = text.split(\"#\")\n",
    "# Use a for to iterate in the list and display the answer\n",
    "for i, line in enumerate(lines):\n",
    "    if i == 0:\n",
    "        print(line.capitalize() + \"...\")\n",
    "    else:\n",
    "        print(\"- \" + line.capitalize() + \".\" )\n",
    "        "
   ]
  },
  {
   "cell_type": "markdown",
   "metadata": {},
   "source": [
    "##### Exercise two\n",
    "\n",
    "Create a modify() function that from a list of numbers perform the following tasks without modifying the original:\n",
    "\n",
    "* Delete the duplicate elements.\n",
    "* Sort the list from highest to lowest.\n",
    "* Delete all odd numbers.\n",
    "* Make a sum of all the remaining numbers.\n",
    "* Add the sum made as the first item in the list.\n",
    "* Return the modified list.\n",
    "\n",
    "Finally, after executing the function, verify that the sum of all the numbers starting from the second, agrees with the first number of the list, such that:\n",
    "\n",
    "```python\n",
    "new_list = modify(list)\n",
    "print( new_list[0] == sum(new_list[1:]) )\n",
    "```"
   ]
  },
  {
   "cell_type": "code",
   "execution_count": 55,
   "metadata": {},
   "outputs": [],
   "source": [
    "l1 = [29, -5, -12, 17, 5, 24, 5, 12, 23, 16, 12, 5, -12, 17]\n",
    "\n",
    "def modify(l):\n",
    "    # Change to set to delate the duplicated elements and then change it again to list\n",
    "    # We dont have to make a copy since we had change the original one to one set and the to one list\n",
    "    l = list(set(l))\n",
    "    # sort the list \n",
    "    l.sort(reverse = True)\n",
    "    for i, n in enumerate(l):\n",
    "        if n%2 != 0:\n",
    "            del(l[i])\n",
    "    l.insert(0, sum(l))\n",
    "    return l\n",
    "\n",
    "new_l = modify(l1)\n",
    "print(new_l)\n",
    "print(l1)"
   ]
  },
  {
   "cell_type": "code",
   "execution_count": 59,
   "metadata": {},
   "outputs": [
    {
     "name": "stdout",
     "output_type": "stream",
     "text": [
      "True\n"
     ]
    }
   ],
   "source": [
    "print(new_l[0] == sum(new_l[1:]))"
   ]
  }
 ],
 "metadata": {
  "kernelspec": {
   "display_name": "Python 3",
   "language": "python",
   "name": "python3"
  },
  "language_info": {
   "codemirror_mode": {
    "name": "ipython",
    "version": 3
   },
   "file_extension": ".py",
   "mimetype": "text/x-python",
   "name": "python",
   "nbconvert_exporter": "python",
   "pygments_lexer": "ipython3",
   "version": "3.7.1"
  }
 },
 "nbformat": 4,
 "nbformat_minor": 2
}
