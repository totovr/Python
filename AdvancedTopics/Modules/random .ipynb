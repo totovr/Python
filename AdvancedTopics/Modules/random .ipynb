{
 "cells": [
  {
   "cell_type": "markdown",
   "metadata": {},
   "source": [
    "# random module\n",
    "This module contains functions to generate random numbers"
   ]
  },
  {
   "cell_type": "code",
   "execution_count": 21,
   "metadata": {},
   "outputs": [
    {
     "name": "stdout",
     "output_type": "stream",
     "text": [
      "0.5129549751823382\n",
      "4.986563904272732\n",
      "4\n",
      "2\n"
     ]
    }
   ],
   "source": [
    "import random\n",
    "# Random number >= 0 y < 1.0\n",
    "print(random.random()) \n",
    "# Random number >= 2 y < 5.0\n",
    "print(random.uniform(2, 5)) # Create an interval\n",
    "# Random integral number \n",
    "print(random.randrange(2, 5)) # Create an interval but just forn integral numbers\n",
    "# Random integral number \n",
    "print(random.randrange(2, 5, 2)) # Create an interval but just forn integral numbers but with the multiply of 2"
   ]
  },
  {
   "cell_type": "code",
   "execution_count": 22,
   "metadata": {},
   "outputs": [
    {
     "name": "stdout",
     "output_type": "stream",
     "text": [
      "r\n",
      "1\n"
     ]
    }
   ],
   "source": [
    "s = \"Hello world\"\n",
    "print(random.choice(s)) # Choice a word randomly of the chain \n",
    "\n",
    "l = [1, 2, 3, 4, 5]\n",
    "print(random.choice(l)) # Choice a word randomly of the chain "
   ]
  },
  {
   "cell_type": "code",
   "execution_count": 23,
   "metadata": {},
   "outputs": [
    {
     "name": "stdout",
     "output_type": "stream",
     "text": [
      "[2, 3, 5, 4, 1]\n"
     ]
    }
   ],
   "source": [
    "# shuffle() will \n",
    "l = [1, 2, 3, 4, 5]\n",
    "w = random.shuffle(l)\n",
    "print(l)"
   ]
  },
  {
   "cell_type": "code",
   "execution_count": 25,
   "metadata": {},
   "outputs": [
    {
     "name": "stdout",
     "output_type": "stream",
     "text": [
      "[5, 4]\n"
     ]
    }
   ],
   "source": [
    "# We can also take a random sample of a list\n",
    "l = [1, 2, 3, 4, 5]\n",
    "w = random.sample(l, 2)\n",
    "print(w)"
   ]
  }
 ],
 "metadata": {
  "kernelspec": {
   "display_name": "Python 3",
   "language": "python",
   "name": "python3"
  },
  "language_info": {
   "codemirror_mode": {
    "name": "ipython",
    "version": 3
   },
   "file_extension": ".py",
   "mimetype": "text/x-python",
   "name": "python",
   "nbconvert_exporter": "python",
   "pygments_lexer": "ipython3",
   "version": "3.7.0"
  }
 },
 "nbformat": 4,
 "nbformat_minor": 2
}
