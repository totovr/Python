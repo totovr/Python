{
 "cells": [
  {
   "cell_type": "markdown",
   "metadata": {},
   "source": [
    "# collections module\n",
    "\n",
    "The integrated collections module provides us with other types or improvements of the classic collections. "
   ]
  },
  {
   "cell_type": "markdown",
   "metadata": {},
   "source": [
    "#### Counter \n",
    "The ***Counter*** class is a subclass of the dictionary used to make accounts:"
   ]
  },
  {
   "cell_type": "code",
   "execution_count": 2,
   "metadata": {},
   "outputs": [
    {
     "name": "stdout",
     "output_type": "stream",
     "text": [
      "Counter({1: 4, 2: 3, 3: 2, 4: 1})\n",
      "Counter({'O': 1, 'n': 1, 'e': 1, ' ': 1, 'w': 1, 'o': 1, 'r': 1, 'd': 1})\n"
     ]
    }
   ],
   "source": [
    "from collections import Counter\n",
    "\n",
    "# Create a list\n",
    "l = [1,2,3,4,1,2,3,1,2,1]\n",
    "# Count the elements of the list l\n",
    "print(Counter(l)) # Note that counter will display it as a dictionary \n",
    "\n",
    "# In a string count all the letters\n",
    "p = \"One word\"\n",
    "print(Counter(p))"
   ]
  },
  {
   "cell_type": "code",
   "execution_count": 13,
   "metadata": {},
   "outputs": [
    {
     "name": "stdout",
     "output_type": "stream",
     "text": [
      "['dog', 'cat', 'bird', 'dog', 'bird', 'dog']\n",
      "Counter({'dog': 3, 'bird': 2, 'cat': 1})\n",
      "[('dog', 3)]\n",
      "[('dog', 3), ('bird', 2)]\n",
      "[('dog', 3), ('bird', 2), ('cat', 1)]\n"
     ]
    }
   ],
   "source": [
    "animals = \"dog cat bird dog bird dog\"\n",
    "# But we can separate the string and count the words\n",
    "print(animals.split())\n",
    "print(Counter(animals.split()))\n",
    "\n",
    "c = Counter(animals.split())\n",
    "# most_common(N) wich N is the parameter of the most common element that we want to show \n",
    "print(c.most_common(1))  # First most repeated element\n",
    "print(c.most_common(2))  # First two most repeated element\n",
    "print(c.most_common())   # Computer elements by repetitions"
   ]
  },
  {
   "cell_type": "code",
   "execution_count": 4,
   "metadata": {},
   "outputs": [
    {
     "name": "stdout",
     "output_type": "stream",
     "text": [
      "dict_items([(10, 4), (20, 3), (30, 2), (40, 1)])\n",
      "dict_keys([10, 20, 30, 40])\n",
      "dict_values([4, 3, 2, 1])\n",
      "10\n",
      "[10, 20, 30, 40]\n",
      "{10: 4, 20: 3, 30: 2, 40: 1}\n",
      "{40, 10, 20, 30}\n"
     ]
    }
   ],
   "source": [
    "l = [10,20,30,40,10,20,30,10,20,10]\n",
    "c = Counter(l)\n",
    "\n",
    "# Counter is a subclass of the dictionaries\n",
    "print(c.items())\n",
    "print(c.keys())\n",
    "print(c.values())\n",
    "\n",
    "# We also can sum all the values with \n",
    "print(sum(c.values()))\n",
    "\n",
    "# We can change this counter to one list, dictionary or set\n",
    "print(list(c)) # This will just import the keys\n",
    "print(dict(c)) # Note that this will lose all the methods that had because of the counter\n",
    "print(set(c)) # Change to set"
   ]
  },
  {
   "cell_type": "markdown",
   "metadata": {},
   "source": [
    " #### Dictionaries by default\n",
    " \n",
    "The ***defaultdict*** class is used to create dictionaries with a default value even if the record has not been previously defined. For this you have to indicate a default data type to the dictionary:"
   ]
  },
  {
   "cell_type": "code",
   "execution_count": 5,
   "metadata": {},
   "outputs": [
    {
     "name": "stdout",
     "output_type": "stream",
     "text": [
      "0.0\n",
      "defaultdict(<class 'float'>, {'something': 0.0})\n"
     ]
    }
   ],
   "source": [
    "from collections import defaultdict\n",
    "d = defaultdict(float) # float value by default\n",
    "print(d[\"something\"])\n",
    "# Throw the value by default and the key with value\n",
    "print(d)"
   ]
  },
  {
   "cell_type": "code",
   "execution_count": 6,
   "metadata": {},
   "outputs": [
    {
     "name": "stdout",
     "output_type": "stream",
     "text": [
      "\n",
      "defaultdict(<class 'str'>, {'something': ''})\n"
     ]
    }
   ],
   "source": [
    "# Now the case of a value string as default\n",
    "d = defaultdict(str) # float value by default\n",
    "print(d[\"something\"])\n",
    "# Throw the value by default and the key with value\n",
    "print(d)"
   ]
  },
  {
   "cell_type": "code",
   "execution_count": 7,
   "metadata": {},
   "outputs": [
    {
     "name": "stdout",
     "output_type": "stream",
     "text": [
      "<object object at 0x10ed11180>\n",
      "defaultdict(<class 'object'>, {'something': <object object at 0x10ed11180>})\n"
     ]
    }
   ],
   "source": [
    "# Now the case of an object value\n",
    "d = defaultdict(object) # float value by default\n",
    "print(d[\"something\"])\n",
    "# Throw the value by default and the key with value\n",
    "print(d)"
   ]
  },
  {
   "cell_type": "code",
   "execution_count": 8,
   "metadata": {},
   "outputs": [
    {
     "name": "stdout",
     "output_type": "stream",
     "text": [
      "defaultdict(<class 'int'>, {'one point five': 1.5})\n"
     ]
    }
   ],
   "source": [
    "# The value by defect will not cause conflict if we use an other type of value\n",
    "d = defaultdict(int) # float value by default\n",
    "d[\"one point five\"] = 1.5\n",
    "# Throw the value by default and the key with value\n",
    "print(d)"
   ]
  },
  {
   "cell_type": "markdown",
   "metadata": {},
   "source": [
    "#### Dictionaries ordered\n",
    "\n",
    "The *OrderedDict* class is another dictionary subclass, but this time with the ability to preserve the order in which we add the records"
   ]
  },
  {
   "cell_type": "code",
   "execution_count": 9,
   "metadata": {},
   "outputs": [
    {
     "name": "stdout",
     "output_type": "stream",
     "text": [
      "OrderedDict([('red', 'rojo'), ('green', 'verde'), ('blue', 'azul')])\n"
     ]
    }
   ],
   "source": [
    "from collections import OrderedDict\n",
    "\n",
    "n = OrderedDict()\n",
    "n['red'] = 'rojo'\n",
    "n['green'] = 'verde'\n",
    "n['blue'] = 'azul'\n",
    "\n",
    "print(n)"
   ]
  },
  {
   "cell_type": "code",
   "execution_count": 10,
   "metadata": {},
   "outputs": [
    {
     "data": {
      "text/plain": [
       "True"
      ]
     },
     "execution_count": 10,
     "metadata": {},
     "output_type": "execute_result"
    }
   ],
   "source": [
    "# Two dictionaries with the same items but with different order\n",
    "n1 = {}\n",
    "n1['red'] = 'rojo'\n",
    "n1['green'] = 'verde'\n",
    "\n",
    "n2 = {}\n",
    "n2['green'] = 'verde'\n",
    "n2['red'] = 'rojo'\n",
    "\n",
    "# This is true because dictionaries are a not sorted collection \n",
    "n1 == n2 # It just take care of the items that is holding not the order"
   ]
  },
  {
   "cell_type": "code",
   "execution_count": 11,
   "metadata": {},
   "outputs": [
    {
     "data": {
      "text/plain": [
       "False"
      ]
     },
     "execution_count": 11,
     "metadata": {},
     "output_type": "execute_result"
    }
   ],
   "source": [
    "# But in the case of OrderedDict() is important the order so both are not equal \n",
    "n1 = OrderedDict()\n",
    "n1['red'] = 'rojo'\n",
    "n1['green'] = 'verde'\n",
    "\n",
    "n2 = OrderedDict()\n",
    "n2['green'] = 'verde'\n",
    "n2['red'] = 'rojo'\n",
    "\n",
    "n1 == n2"
   ]
  },
  {
   "cell_type": "markdown",
   "metadata": {},
   "source": [
    "#### namedtuple\n",
    "\n",
    "namedtuple instances are just as memory efficient as regular tuples because they do not \n",
    "have per-instance dictionaries. Each kind of namedtuple is represented by its own class, \n",
    "which is created by using the namedtuple() factory function. The arguments are the name \n",
    "of the new class and a string containing the names of the elements.\n",
    "\n"
   ]
  },
  {
   "cell_type": "code",
   "execution_count": 12,
   "metadata": {},
   "outputs": [
    {
     "name": "stdout",
     "output_type": "stream",
     "text": [
      "Space invaders\n",
      "80's\n",
      "arcade\n",
      "Game(name='Space invaders', release=\"80's\", topic='arcade')\n",
      "Space invaders\n"
     ]
    }
   ],
   "source": [
    "from collections import namedtuple\n",
    "# The name of the object must not be necessary the same of the typename of the tuple\n",
    "Game = namedtuple('Game', 'name release topic') # Here the object Game will be the name of our \"class\"\n",
    "p = Game(name = \"Space invaders\", release = \"80's\", topic = \"arcade\")\n",
    "\n",
    "# We can access the elements as if they were attributes of an object\n",
    "print(p.name)\n",
    "print(p.release)\n",
    "print(p.topic)\n",
    "# Or access all the attributs that hold the object\n",
    "print(p)\n",
    "# Also we can access with the index of the elements\n",
    "print(p[0])"
   ]
  },
  {
   "cell_type": "code",
   "execution_count": null,
   "metadata": {},
   "outputs": [],
   "source": []
  }
 ],
 "metadata": {
  "kernelspec": {
   "display_name": "Python 3",
   "language": "python",
   "name": "python3"
  },
  "language_info": {
   "codemirror_mode": {
    "name": "ipython",
    "version": 3
   },
   "file_extension": ".py",
   "mimetype": "text/x-python",
   "name": "python",
   "nbconvert_exporter": "python",
   "pygments_lexer": "ipython3",
   "version": "3.7.0"
  }
 },
 "nbformat": 4,
 "nbformat_minor": 2
}
