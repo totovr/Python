{
 "cells": [
  {
   "cell_type": "markdown",
   "metadata": {},
   "source": [
    "# File text\n",
    "\n",
    "### Create a file \n",
    "\n",
    "Is necessary to import ```from io import open``` if we will use an script instead of a jupyter \n",
    "notebook. The open() function returns a file object which can used to read, write and modify file."
   ]
  },
  {
   "cell_type": "code",
   "execution_count": 1,
   "metadata": {},
   "outputs": [],
   "source": [
    "# from io import open\n",
    "text = \"One line\\nAnd other line\"\n",
    "\n",
    "# Path were the file will be created, w indicates writing (pointer to the beginning)\n",
    "file = open('file.txt','w')  \n",
    "# Write the text in the txt\n",
    "file.write(text) \n",
    "\n",
    "# Close the file\n",
    "file.close()  \n",
    "# delate the file variable\n",
    "del(file) # Im doing this always in jupyter because can cause a problem but in one script is not necessary "
   ]
  },
  {
   "cell_type": "code",
   "execution_count": 2,
   "metadata": {},
   "outputs": [],
   "source": [
    "# if we excecute the open('file.txt','w') this will overwrite the file and remove all the data\n",
    "# file = open('file.txt','w')  "
   ]
  },
  {
   "cell_type": "markdown",
   "metadata": {},
   "source": [
    "### Read file\n",
    "If we want to read the data of one file change to 'r'"
   ]
  },
  {
   "cell_type": "code",
   "execution_count": 3,
   "metadata": {},
   "outputs": [
    {
     "name": "stdout",
     "output_type": "stream",
     "text": [
      "One line\n",
      "And other line\n"
     ]
    }
   ],
   "source": [
    "# If we want to read the data of one file change to 'r'\n",
    "file = open('file.txt','r') \n",
    "# with read() we will read all the file and save the data in a variable\n",
    "readText = file.read()\n",
    "# Once we already load the data in the variable we save the file \n",
    "file.close()  \n",
    "# And delate the file variable  \n",
    "del(file)\n",
    "print(readText)"
   ]
  },
  {
   "cell_type": "code",
   "execution_count": 4,
   "metadata": {},
   "outputs": [
    {
     "data": {
      "text/plain": [
       "'One line\\nAnd other line'"
      ]
     },
     "execution_count": 4,
     "metadata": {},
     "output_type": "execute_result"
    }
   ],
   "source": [
    "readText # the text that was read from the file is one string"
   ]
  },
  {
   "cell_type": "code",
   "execution_count": 5,
   "metadata": {},
   "outputs": [
    {
     "name": "stdout",
     "output_type": "stream",
     "text": [
      "['One line', 'And other line']\n"
     ]
    }
   ],
   "source": [
    "# if we want to separe the text in one list we can use the method split\n",
    "listText = readText.split(\"\\n\")\n",
    "print(listText)"
   ]
  },
  {
   "cell_type": "markdown",
   "metadata": {},
   "source": [
    "But also is possible to generate a list with the method readlines() "
   ]
  },
  {
   "cell_type": "code",
   "execution_count": 6,
   "metadata": {},
   "outputs": [
    {
     "name": "stdout",
     "output_type": "stream",
     "text": [
      "['One line', 'And other line']\n"
     ]
    }
   ],
   "source": [
    "file = open('file.txt','r') \n",
    "# Read the file and save the data of the file in a variable\n",
    "readText = file.readlines() # separate the lines of the string witht the method readlines\n",
    "# Once we already load the data in the variable we save the file \n",
    "file.close()  \n",
    "# And delate the file variable  \n",
    "del(file)\n",
    "\n",
    "l = [] # Create a new list\n",
    "for line in readText:\n",
    "    newSplit = line.strip(\"\\n\") # strip method will delate the \\n\n",
    "    l.append(newSplit) # append to the new list\n",
    "    \n",
    "print(l)"
   ]
  },
  {
   "cell_type": "markdown",
   "metadata": {},
   "source": [
    "### Append mode\n",
    "With this the point will look towards the end of the file instead of at the beginning which is what the **w** mode does"
   ]
  },
  {
   "cell_type": "code",
   "execution_count": 7,
   "metadata": {},
   "outputs": [],
   "source": [
    "file = open(\"file.txt\", \"a\") # \"a\" mean append mode, IF THE FILE DOESN'T EXIST IT WILL BE CREATED\n",
    "file.write(\"\\nAnother line in this file\") # add another line in the file\n",
    "file.close() # close the file\n",
    "del(file) # delate the variable file"
   ]
  },
  {
   "cell_type": "code",
   "execution_count": 8,
   "metadata": {},
   "outputs": [
    {
     "name": "stdout",
     "output_type": "stream",
     "text": [
      "One line\n",
      "\n"
     ]
    }
   ],
   "source": [
    "# readline() method\n",
    "file = open(\"file.txt\", \"r\")\n",
    "l = file.readline() # This will read line by line \n",
    "print(l)"
   ]
  },
  {
   "cell_type": "code",
   "execution_count": 9,
   "metadata": {},
   "outputs": [
    {
     "name": "stdout",
     "output_type": "stream",
     "text": [
      "And other line\n",
      "\n"
     ]
    }
   ],
   "source": [
    "l = file.readline()\n",
    "print(l)"
   ]
  },
  {
   "cell_type": "code",
   "execution_count": 10,
   "metadata": {},
   "outputs": [
    {
     "name": "stdout",
     "output_type": "stream",
     "text": [
      "Another line in this file\n"
     ]
    }
   ],
   "source": [
    "l = file.readline()\n",
    "print(l)"
   ]
  },
  {
   "cell_type": "code",
   "execution_count": 11,
   "metadata": {},
   "outputs": [],
   "source": [
    "file.close() # close the file\n",
    "del(file) # delate the variable file"
   ]
  },
  {
   "cell_type": "code",
   "execution_count": 12,
   "metadata": {},
   "outputs": [
    {
     "name": "stdout",
     "output_type": "stream",
     "text": [
      "One line\n",
      "\n",
      "And other line\n",
      "\n",
      "Another line in this file\n"
     ]
    }
   ],
   "source": [
    "# if we want to read the file with a for directly we can use\n",
    "with open(\"file.txt\", \"r\") as file:\n",
    "    for line in file:\n",
    "        print(line)\n",
    "file.close() # close the file\n",
    "del(file) # delate the variable file"
   ]
  },
  {
   "cell_type": "markdown",
   "metadata": {},
   "source": [
    "### Manage the pointer\n",
    "With the method seek we can choice the where the pointer will look for"
   ]
  },
  {
   "cell_type": "code",
   "execution_count": 13,
   "metadata": {},
   "outputs": [
    {
     "data": {
      "text/plain": [
       "'nd other line\\nAnother line in this file'"
      ]
     },
     "execution_count": 13,
     "metadata": {},
     "output_type": "execute_result"
    }
   ],
   "source": [
    "file = open(\"file.txt\", \"r\")\n",
    "file.seek(10) # move the pointer to the 10 position \n",
    "file.read() # it will start to read in the "
   ]
  },
  {
   "cell_type": "code",
   "execution_count": 14,
   "metadata": {},
   "outputs": [
    {
     "data": {
      "text/plain": [
       "''"
      ]
     },
     "execution_count": 14,
     "metadata": {},
     "output_type": "execute_result"
    }
   ],
   "source": [
    "file.read() # now the pointer will be at the end"
   ]
  },
  {
   "cell_type": "code",
   "execution_count": 15,
   "metadata": {},
   "outputs": [
    {
     "data": {
      "text/plain": [
       "'One line\\nAnd other line\\nAnother line in this file'"
      ]
     },
     "execution_count": 15,
     "metadata": {},
     "output_type": "execute_result"
    }
   ],
   "source": [
    "file.seek(0) # return the pointer to the beginning\n",
    "file.read()"
   ]
  },
  {
   "cell_type": "code",
   "execution_count": 16,
   "metadata": {},
   "outputs": [
    {
     "data": {
      "text/plain": [
       "'ine\\nAnd other line\\nAnother line in this file'"
      ]
     },
     "execution_count": 16,
     "metadata": {},
     "output_type": "execute_result"
    }
   ],
   "source": [
    "file.seek(0) # return the pointer to the beginning\n",
    "file.read(5) # .read() also can adjust how many words we want to read (0-4)\n",
    "file.read() # now the pointer will start in the 5 position"
   ]
  },
  {
   "cell_type": "code",
   "execution_count": 17,
   "metadata": {},
   "outputs": [
    {
     "data": {
      "text/plain": [
       "'Another line in this file'"
      ]
     },
     "execution_count": 17,
     "metadata": {},
     "output_type": "execute_result"
    }
   ],
   "source": [
    "file.seek(0) # return the pointer to the beginning\n",
    "text = file.read()\n",
    "file.seek(len(text) / 2)\n",
    "file.read()"
   ]
  },
  {
   "cell_type": "code",
   "execution_count": 18,
   "metadata": {},
   "outputs": [
    {
     "name": "stdout",
     "output_type": "stream",
     "text": [
      "And other line\n",
      "Another line in this file\n"
     ]
    }
   ],
   "source": [
    "# If we want to read from the second line \n",
    "file.seek(0) # return the pointer to the beginning\n",
    "file.seek(len(file.readline())) # read until the end of the first line\n",
    "text = file.read()\n",
    "print(text)\n",
    "file.close()\n",
    "del(file)"
   ]
  },
  {
   "cell_type": "markdown",
   "metadata": {},
   "source": [
    "### read and write mode"
   ]
  },
  {
   "cell_type": "code",
   "execution_count": 19,
   "metadata": {},
   "outputs": [],
   "source": [
    "file = open(\"file.txt\", \"r+\") # The + will allow to write once we are reading the file\n",
    "# The pointer is in the index 0 so it will begin to write in the index 0\n",
    "file.write(\"Hello how are you\") # This will overwrite the file.txt but will not delate the other data\n",
    "file.close()\n",
    "del(file)"
   ]
  },
  {
   "cell_type": "code",
   "execution_count": 20,
   "metadata": {},
   "outputs": [
    {
     "name": "stdout",
     "output_type": "stream",
     "text": [
      "Hello how are your line\n",
      "Another line in this file\n"
     ]
    }
   ],
   "source": [
    "# If we read again the past file \n",
    "file = open(\"file.txt\", \"r\") # The + will allow to write once we are reading the file\n",
    "text = file.read()\n",
    "file.close()\n",
    "del(file)\n",
    "print(text) "
   ]
  },
  {
   "cell_type": "code",
   "execution_count": 22,
   "metadata": {},
   "outputs": [],
   "source": [
    "# If we wanto to overwrite the file in an especific line \n",
    "file = open(\"file.txt\", \"r+\") \n",
    "text = file.readlines()\n",
    "text[1] = \"We modify this from memory\\n\"\n",
    "# remember to return the point to the index 0\n",
    "file.seek(0)\n",
    "file.writelines(text)\n",
    "file.close()\n",
    "del(file)"
   ]
  }
 ],
 "metadata": {
  "kernelspec": {
   "display_name": "Python 3",
   "language": "python",
   "name": "python3"
  },
  "language_info": {
   "codemirror_mode": {
    "name": "ipython",
    "version": 3
   },
   "file_extension": ".py",
   "mimetype": "text/x-python",
   "name": "python",
   "nbconvert_exporter": "python",
   "pygments_lexer": "ipython3",
   "version": "3.7.0"
  }
 },
 "nbformat": 4,
 "nbformat_minor": 2
}
