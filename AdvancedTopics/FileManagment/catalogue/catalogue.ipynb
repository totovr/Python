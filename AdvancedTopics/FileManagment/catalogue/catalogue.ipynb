{
 "cells": [
  {
   "cell_type": "code",
   "execution_count": 2,
   "metadata": {},
   "outputs": [],
   "source": [
    "from io import open # import the open method\n",
    "import pickle # import the pickle module\n",
    "\n",
    "class Movie:\n",
    "    # This is the constructor\n",
    "    def __init__(self, title, launched):\n",
    "        self.title = title\n",
    "        self.launched = launched\n",
    "        print(\"The movie '{}' was created\".format(self.title))\n",
    "\n",
    "    # Redefine string\n",
    "    def __str__(self):\n",
    "        return \"{} ({})\".format(self.title, self.launched)\n",
    "\n",
    "\n",
    "class Catalogue:\n",
    "    \n",
    "    movies = []\n",
    "    def __init__(self):\n",
    "        self.load()\n",
    "\n",
    "    def add_movies(self, p):\n",
    "        self.movies.append(p)\n",
    "        self.save()\n",
    "\n",
    "    def show(self):\n",
    "        if len(self.movies) == 0:\n",
    "            print(\"There are not movies in the catalogue\")\n",
    "        else:\n",
    "            for p in self.movies:\n",
    "                print(p)\n",
    "\n",
    "    def load(self):\n",
    "        file = open('catalogue.pckl', 'ab+') # binary append with lecture mode\n",
    "        file.seek(0)\n",
    "        try:\n",
    "            self.movies = pickle.load(file)\n",
    "        except:\n",
    "            print(\"This file is empty\") # if the file is empty \n",
    "        finally:\n",
    "            file.close()\n",
    "            print(\"{} movies were loaded\".format(len(self.movies)))\n",
    "    \n",
    "    def save(self):\n",
    "        file = open('catalogue.pckl', 'wb+')\n",
    "        pickle.dump(self.movies, file)\n",
    "        file.close()\n",
    "\n",
    "    # Destroy the class\n",
    "    def __del__(self):\n",
    "        self.save() # automatic save\n",
    "        "
   ]
  },
  {
   "cell_type": "code",
   "execution_count": 3,
   "metadata": {},
   "outputs": [
    {
     "name": "stdout",
     "output_type": "stream",
     "text": [
      "This file is empty\n",
      "0 movies were loaded\n",
      "There are not movies in the catalogue\n",
      "The movie 'Spiderman' was created\n",
      "The movie 'Avenger' was created\n",
      "Spiderman (2000)\n",
      "Avenger (2016)\n"
     ]
    }
   ],
   "source": [
    "# Create the catalogue\n",
    "c = Catalogue()\n",
    "\n",
    "# show the content\n",
    "c.show()\n",
    "\n",
    "# Add the movies\n",
    "c.add_movies( Movie(\"Spiderman\", 2000) )\n",
    "c.add_movies( Movie(\"Avenger\", 2016) )\n",
    "\n",
    "# Show again the catalogue\n",
    "c.show()\n",
    "\n",
    "# Delate the catalogue of the ram memory, the file will persist in the folder\n",
    "del(c)"
   ]
  },
  {
   "cell_type": "code",
   "execution_count": 5,
   "metadata": {},
   "outputs": [
    {
     "name": "stdout",
     "output_type": "stream",
     "text": [
      "2 movies were loaded\n",
      "Spiderman (2000)\n",
      "Avenger (2016)\n",
      "The movie 'Austin Powers' was created\n",
      "Spiderman (2000)\n",
      "Avenger (2016)\n",
      "Austin Powers (1997)\n"
     ]
    }
   ],
   "source": [
    "# Create the catalogue\n",
    "c = Catalogue()\n",
    "\n",
    "# show the content\n",
    "c.show()\n",
    "\n",
    "# Add a movie\n",
    "c.add_movies( Movie(\"Austin Powers\", 1997) )\n",
    "\n",
    "# Mostramos el catálogo de nuevo\n",
    "c.show()"
   ]
  },
  {
   "cell_type": "code",
   "execution_count": 14,
   "metadata": {},
   "outputs": [
    {
     "name": "stdout",
     "output_type": "stream",
     "text": [
      "The sum is 9\n"
     ]
    }
   ],
   "source": [
    "class s:\n",
    "    w = 0\n",
    "    def __init__(self, a, b):\n",
    "        self.a = a\n",
    "        self.b = b\n",
    "        self.w = self.sumar()\n",
    "    def __str__(self):\n",
    "        return \"The sum is {}\".format(self.w)\n",
    "    def sumar(self):\n",
    "        return self.a + self.b\n",
    "        \n",
    "su = s(5, 4)\n",
    "print(su)"
   ]
  },
  {
   "cell_type": "code",
   "execution_count": null,
   "metadata": {},
   "outputs": [],
   "source": []
  }
 ],
 "metadata": {
  "kernelspec": {
   "display_name": "Python 3",
   "language": "python",
   "name": "python3"
  },
  "language_info": {
   "codemirror_mode": {
    "name": "ipython",
    "version": 3
   },
   "file_extension": ".py",
   "mimetype": "text/x-python",
   "name": "python",
   "nbconvert_exporter": "python",
   "pygments_lexer": "ipython3",
   "version": "3.7.0"
  }
 },
 "nbformat": 4,
 "nbformat_minor": 2
}
