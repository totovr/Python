{
 "cells": [
  {
   "cell_type": "markdown",
   "metadata": {},
   "source": [
    "# pickle module "
   ]
  },
  {
   "cell_type": "code",
   "execution_count": 9,
   "metadata": {},
   "outputs": [],
   "source": [
    "import pickle\n",
    "# We can save what lists, dictionaries, tuples, sets or strings\n",
    "l = [1,2,3,4,5]\n",
    "# Create a file with the pckl extension and use the \"wb\" mode, this will start the write binary mode \n",
    "file = open('list.pckl','wb')\n",
    "# Write the list in the file\n",
    "pickle.dump(l, file) \n",
    "# Close the file\n",
    "file.close()\n",
    "del(file)"
   ]
  },
  {
   "cell_type": "code",
   "execution_count": 10,
   "metadata": {},
   "outputs": [
    {
     "name": "stdout",
     "output_type": "stream",
     "text": [
      "[1, 2, 3, 4, 5]\n",
      "[1, 2, 3, 4, 5]\n"
     ]
    }
   ],
   "source": [
    "file = open('list.pckl','rb') # open the file in read mode\n",
    "l = pickle.load(file)\n",
    "print(l)\n",
    "del(l)\n",
    "file.seek(0) # Is necesseray to return to the 0 index\n",
    "w = pickle.load(file) # read the file, if the pointer is not return to 0 will not read anything\n",
    "print(w)\n",
    "del(file)"
   ]
  },
  {
   "cell_type": "markdown",
   "metadata": {},
   "source": [
    "How can we save a list of names in a file using a class?"
   ]
  },
  {
   "cell_type": "code",
   "execution_count": 18,
   "metadata": {},
   "outputs": [],
   "source": [
    "# Create one class to save the list and return as list\n",
    "class Bands:\n",
    "    def __init__(self, name):\n",
    "        self.name = name\n",
    "    def __str__(self):\n",
    "        return self.name\n",
    "\n",
    "# Create a list\n",
    "rockBands = [\"Queen\", \"Red Hot\", \"Beatles\"]\n",
    "rock = []\n",
    "# Create a list with the objects\n",
    "for n in rockBands:\n",
    "    p = Bands(n)\n",
    "    rock.append(p)\n",
    "# Open the file \n",
    "f = open('bands.pckl','wb')\n",
    "pickle.dump(rock, f) # what are we going to write and file \n",
    "f.close()\n",
    "del(f)\n",
    "# Read the file \n",
    "f = open('bands.pckl','rb')\n",
    "r = pickle.load(f) # what are we going to load\n",
    "f.close()\n",
    "del(f)\n",
    "\n",
    "for i in r:\n",
    "    print(i)"
   ]
  }
 ],
 "metadata": {
  "kernelspec": {
   "display_name": "Python 3",
   "language": "python",
   "name": "python3"
  },
  "language_info": {
   "codemirror_mode": {
    "name": "ipython",
    "version": 3
   },
   "file_extension": ".py",
   "mimetype": "text/x-python",
   "name": "python",
   "nbconvert_exporter": "python",
   "pygments_lexer": "ipython3",
   "version": "3.7.0"
  }
 },
 "nbformat": 4,
 "nbformat_minor": 2
}
