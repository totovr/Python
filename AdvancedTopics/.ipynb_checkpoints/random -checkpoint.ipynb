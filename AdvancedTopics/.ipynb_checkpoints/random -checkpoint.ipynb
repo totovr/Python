{
 "cells": [
  {
   "cell_type": "markdown",
   "metadata": {},
   "source": [
    "# random module\n",
    "This module contains functions to generate random numbers"
   ]
  },
  {
   "cell_type": "code",
   "execution_count": 6,
   "metadata": {},
   "outputs": [
    {
     "name": "stdout",
     "output_type": "stream",
     "text": [
      "0.8478252469514909\n",
      "4.5050692631279645\n",
      "4\n"
     ]
    }
   ],
   "source": [
    "import random\n",
    "# Random number >= 0 y < 1.0\n",
    "print(random.random()) \n",
    "# Random number >= 2 y < 5.0\n",
    "print(random.uniform(2, 5)) # Create an interval\n",
    "# Random integral number \n",
    "print(random.randrange(2, 5)) # Create an interval but just forn integral numbers"
   ]
  },
  {
   "cell_type": "code",
   "execution_count": null,
   "metadata": {},
   "outputs": [],
   "source": []
  }
 ],
 "metadata": {
  "kernelspec": {
   "display_name": "Python 3",
   "language": "python",
   "name": "python3"
  },
  "language_info": {
   "codemirror_mode": {
    "name": "ipython",
    "version": 3
   },
   "file_extension": ".py",
   "mimetype": "text/x-python",
   "name": "python",
   "nbconvert_exporter": "python",
   "pygments_lexer": "ipython3",
   "version": "3.7.0"
  }
 },
 "nbformat": 4,
 "nbformat_minor": 2
}
