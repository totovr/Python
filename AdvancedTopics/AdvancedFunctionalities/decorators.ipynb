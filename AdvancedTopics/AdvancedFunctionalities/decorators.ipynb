{
 "cells": [
  {
   "cell_type": "code",
   "execution_count": 1,
   "metadata": {},
   "outputs": [],
   "source": [
    "def hello():\n",
    "    \n",
    "    def welcome():\n",
    "        return \"Hello!\"\n",
    "    return welcome"
   ]
  },
  {
   "cell_type": "code",
   "execution_count": 2,
   "metadata": {},
   "outputs": [
    {
     "ename": "NameError",
     "evalue": "name 'welcome' is not defined",
     "output_type": "error",
     "traceback": [
      "\u001b[0;31m---------------------------------------------------------------------------\u001b[0m",
      "\u001b[0;31mNameError\u001b[0m                                 Traceback (most recent call last)",
      "\u001b[0;32m<ipython-input-2-85fcd345dd2c>\u001b[0m in \u001b[0;36m<module>\u001b[0;34m\u001b[0m\n\u001b[0;32m----> 1\u001b[0;31m \u001b[0mwelcome\u001b[0m\u001b[0;34m\u001b[0m\u001b[0;34m\u001b[0m\u001b[0m\n\u001b[0m",
      "\u001b[0;31mNameError\u001b[0m: name 'welcome' is not defined"
     ]
    }
   ],
   "source": [
    "welcome"
   ]
  },
  {
   "cell_type": "markdown",
   "metadata": {},
   "source": [
    "The function welcome just exist as local in the hello function"
   ]
  },
  {
   "cell_type": "code",
   "execution_count": 3,
   "metadata": {},
   "outputs": [
    {
     "data": {
      "text/plain": [
       "<function __main__.hello.<locals>.welcome()>"
      ]
     },
     "execution_count": 3,
     "metadata": {},
     "output_type": "execute_result"
    }
   ],
   "source": [
    "hello()"
   ]
  },
  {
   "cell_type": "markdown",
   "metadata": {},
   "source": [
    "As we can see if we call the function hello, it will just return the local variables "
   ]
  },
  {
   "cell_type": "code",
   "execution_count": 5,
   "metadata": {},
   "outputs": [
    {
     "name": "stdout",
     "output_type": "stream",
     "text": [
      "{'number': 50, 'welcome': <function hello.<locals>.welcome at 0x10b0849d8>}\n"
     ]
    },
    {
     "data": {
      "text/plain": [
       "<function __main__.hello.<locals>.welcome()>"
      ]
     },
     "execution_count": 5,
     "metadata": {},
     "output_type": "execute_result"
    }
   ],
   "source": [
    "listNumbers = [1, 2, 3]\n",
    "\n",
    "def hello():\n",
    "    \n",
    "    number = 50\n",
    "    \n",
    "    def welcome():\n",
    "        return \"Hello!\"\n",
    "    \n",
    "    print( locals() )\n",
    "    \n",
    "    return welcome\n",
    "\n",
    "hello()"
   ]
  },
  {
   "cell_type": "markdown",
   "metadata": {},
   "source": [
    "This return the local variables, not the globals "
   ]
  },
  {
   "cell_type": "code",
   "execution_count": 1,
   "metadata": {},
   "outputs": [
    {
     "name": "stdout",
     "output_type": "stream",
     "text": [
      "{'__name__': '__main__', '__doc__': 'Automatically created module for IPython interactive environment', '__package__': None, '__loader__': None, '__spec__': None, '__builtin__': <module 'builtins' (built-in)>, '__builtins__': <module 'builtins' (built-in)>, '_ih': ['', 'listNumbers = [1, 2, 3]\\n\\ndef hello():\\n    \\n    number = 50\\n    \\n    def welcome():\\n        return \"Hello!\"\\n    \\n    # print( locals () )\\n    print( globals () )\\n    \\n    return welcome\\n\\nhello()'], '_oh': {}, '_dh': ['/Users/tono/Github/Python/AdvancedTopics/AdvancedFunctionalities'], 'In': ['', 'listNumbers = [1, 2, 3]\\n\\ndef hello():\\n    \\n    number = 50\\n    \\n    def welcome():\\n        return \"Hello!\"\\n    \\n    # print( locals () )\\n    print( globals () )\\n    \\n    return welcome\\n\\nhello()'], 'Out': {}, 'get_ipython': <bound method InteractiveShell.get_ipython of <ipykernel.zmqshell.ZMQInteractiveShell object at 0x109367588>>, 'exit': <IPython.core.autocall.ZMQExitAutocall object at 0x10ab057f0>, 'quit': <IPython.core.autocall.ZMQExitAutocall object at 0x10ab057f0>, '_': '', '__': '', '___': '', '_i': '', '_ii': '', '_iii': '', '_i1': 'listNumbers = [1, 2, 3]\\n\\ndef hello():\\n    \\n    number = 50\\n    \\n    def welcome():\\n        return \"Hello!\"\\n    \\n    # print( locals () )\\n    print( globals () )\\n    \\n    return welcome\\n\\nhello()', 'listNumbers': [1, 2, 3], 'hello': <function hello at 0x10abfe488>}\n"
     ]
    },
    {
     "data": {
      "text/plain": [
       "<function __main__.hello.<locals>.welcome()>"
      ]
     },
     "execution_count": 1,
     "metadata": {},
     "output_type": "execute_result"
    }
   ],
   "source": [
    "listNumbers = [1, 2, 3]\n",
    "\n",
    "def hello():\n",
    "    \n",
    "    number = 50\n",
    "    \n",
    "    def welcome():\n",
    "        return \"Hello!\"\n",
    "    \n",
    "    # print( locals () )\n",
    "    print( globals () )\n",
    "    \n",
    "    return welcome\n",
    "\n",
    "hello()"
   ]
  },
  {
   "cell_type": "markdown",
   "metadata": {},
   "source": [
    "But if the print the with **globals**, it will return all the global elements."
   ]
  },
  {
   "cell_type": "code",
   "execution_count": 1,
   "metadata": {},
   "outputs": [
    {
     "name": "stdout",
     "output_type": "stream",
     "text": [
      "{'number': 50, 'welcome': <function hello.<locals>.welcome at 0x10ce590d0>}\n",
      "{'__name__': '__main__', '__doc__': 'Automatically created module for IPython interactive environment', '__package__': None, '__loader__': None, '__spec__': None, '__builtin__': <module 'builtins' (built-in)>, '__builtins__': <module 'builtins' (built-in)>, '_ih': ['', 'listNumbers = [1, 2, 3]\\n\\ndef hello():\\n    \\n    number = 50\\n    \\n    def welcome():\\n        return \"Hello!\"\\n    \\n    print( locals () )\\n    print( globals () )\\n    \\n    return welcome\\n\\nhello()'], '_oh': {}, '_dh': ['/Users/tono/Github/Python/AdvancedTopics/AdvancedFunctionalities'], 'In': ['', 'listNumbers = [1, 2, 3]\\n\\ndef hello():\\n    \\n    number = 50\\n    \\n    def welcome():\\n        return \"Hello!\"\\n    \\n    print( locals () )\\n    print( globals () )\\n    \\n    return welcome\\n\\nhello()'], 'Out': {}, 'get_ipython': <bound method InteractiveShell.get_ipython of <ipykernel.zmqshell.ZMQInteractiveShell object at 0x10c29bf98>>, 'exit': <IPython.core.autocall.ZMQExitAutocall object at 0x10cd657f0>, 'quit': <IPython.core.autocall.ZMQExitAutocall object at 0x10cd657f0>, '_': '', '__': '', '___': '', '_i': '', '_ii': '', '_iii': '', '_i1': 'listNumbers = [1, 2, 3]\\n\\ndef hello():\\n    \\n    number = 50\\n    \\n    def welcome():\\n        return \"Hello!\"\\n    \\n    print( locals () )\\n    print( globals () )\\n    \\n    return welcome\\n\\nhello()', 'listNumbers': [1, 2, 3], 'hello': <function hello at 0x10ce592f0>}\n"
     ]
    },
    {
     "data": {
      "text/plain": [
       "<function __main__.hello.<locals>.welcome()>"
      ]
     },
     "execution_count": 1,
     "metadata": {},
     "output_type": "execute_result"
    }
   ],
   "source": [
    "listNumbers = [1, 2, 3]\n",
    "\n",
    "def hello():\n",
    "    \n",
    "    number = 50\n",
    "    \n",
    "    def welcome():\n",
    "        return \"Hello!\"\n",
    "    \n",
    "    print( locals () )\n",
    "    print( globals () )\n",
    "    \n",
    "    return welcome\n",
    "\n",
    "hello()"
   ]
  },
  {
   "cell_type": "markdown",
   "metadata": {},
   "source": [
    "This global variables are returned as a dictionary "
   ]
  },
  {
   "cell_type": "code",
   "execution_count": 3,
   "metadata": {},
   "outputs": [
    {
     "data": {
      "text/plain": [
       "dict_keys(['__name__', '__doc__', '__package__', '__loader__', '__spec__', '__builtin__', '__builtins__', '_ih', '_oh', '_dh', 'In', 'Out', 'get_ipython', 'exit', 'quit', '_', '__', '___', '_i', '_ii', '_iii', '_i1', 'listNumbers', 'hello', '_1', '_i2', '_i3'])"
      ]
     },
     "execution_count": 3,
     "metadata": {},
     "output_type": "execute_result"
    }
   ],
   "source": [
    "globals().keys()"
   ]
  },
  {
   "cell_type": "markdown",
   "metadata": {},
   "source": [
    "Is possible to access to the keys of the gloabal variables "
   ]
  },
  {
   "cell_type": "code",
   "execution_count": 6,
   "metadata": {},
   "outputs": [
    {
     "data": {
      "text/plain": [
       "[1, 2, 3]"
      ]
     },
     "execution_count": 6,
     "metadata": {},
     "output_type": "execute_result"
    }
   ],
   "source": [
    "globals()['listNumbers']"
   ]
  },
  {
   "cell_type": "code",
   "execution_count": 8,
   "metadata": {},
   "outputs": [
    {
     "data": {
      "text/plain": [
       "'Hello!'"
      ]
     },
     "execution_count": 8,
     "metadata": {},
     "output_type": "execute_result"
    }
   ],
   "source": [
    "def hello():\n",
    "    \n",
    "    def welcome():\n",
    "        return \"Hello!\"\n",
    "    return welcome\n",
    "\n",
    "hello()()"
   ]
  },
  {
   "cell_type": "code",
   "execution_count": 11,
   "metadata": {},
   "outputs": [
    {
     "data": {
      "text/plain": [
       "'Hello!'"
      ]
     },
     "execution_count": 11,
     "metadata": {},
     "output_type": "execute_result"
    }
   ],
   "source": [
    "bienvenido = hello()\n",
    "bienvenido()"
   ]
  },
  {
   "cell_type": "markdown",
   "metadata": {},
   "source": [
    "### The copies of the functions are independent "
   ]
  },
  {
   "cell_type": "code",
   "execution_count": 16,
   "metadata": {},
   "outputs": [],
   "source": [
    "del(hello)"
   ]
  },
  {
   "cell_type": "code",
   "execution_count": 17,
   "metadata": {},
   "outputs": [
    {
     "data": {
      "text/plain": [
       "'Hello!'"
      ]
     },
     "execution_count": 17,
     "metadata": {},
     "output_type": "execute_result"
    }
   ],
   "source": [
    "bienvenido()"
   ]
  },
  {
   "cell_type": "markdown",
   "metadata": {},
   "source": [
    "We can modify another functions using them inside of another functions as: "
   ]
  },
  {
   "cell_type": "code",
   "execution_count": 18,
   "metadata": {},
   "outputs": [
    {
     "name": "stdout",
     "output_type": "stream",
     "text": [
      "Hola!\n"
     ]
    }
   ],
   "source": [
    "def hello():\n",
    "    return \"Hola!\"\n",
    "\n",
    "def test(function):\n",
    "    print(function())\n",
    "\n",
    "test(hello)"
   ]
  },
  {
   "cell_type": "code",
   "execution_count": null,
   "metadata": {},
   "outputs": [],
   "source": []
  }
 ],
 "metadata": {
  "kernelspec": {
   "display_name": "Python 3",
   "language": "python",
   "name": "python3"
  },
  "language_info": {
   "codemirror_mode": {
    "name": "ipython",
    "version": 3
   },
   "file_extension": ".py",
   "mimetype": "text/x-python",
   "name": "python",
   "nbconvert_exporter": "python",
   "pygments_lexer": "ipython3",
   "version": "3.7.1"
  }
 },
 "nbformat": 4,
 "nbformat_minor": 2
}
