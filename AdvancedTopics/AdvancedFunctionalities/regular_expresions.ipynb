{
 "cells": [
  {
   "cell_type": "markdown",
   "metadata": {},
   "source": [
    "### Regular expresions "
   ]
  },
  {
   "cell_type": "code",
   "execution_count": 1,
   "metadata": {},
   "outputs": [],
   "source": [
    "import re"
   ]
  },
  {
   "cell_type": "code",
   "execution_count": 2,
   "metadata": {},
   "outputs": [
    {
     "data": {
      "text/plain": [
       "<re.Match object; span=(26, 31), match='magic'>"
      ]
     },
     "execution_count": 2,
     "metadata": {},
     "output_type": "execute_result"
    }
   ],
   "source": [
    "text = \"In this chain the word is magic\"\n",
    "re.search(\"magic\", text)"
   ]
  },
  {
   "cell_type": "code",
   "execution_count": 3,
   "metadata": {},
   "outputs": [],
   "source": [
    "word = \"magic\"\n",
    "find = re.search(word, text) # Return true or none"
   ]
  },
  {
   "cell_type": "code",
   "execution_count": 4,
   "metadata": {},
   "outputs": [
    {
     "name": "stdout",
     "output_type": "stream",
     "text": [
      "The word was find\n"
     ]
    }
   ],
   "source": [
    "if find is not None:\n",
    "    print(\"The word was find\")\n",
    "else:\n",
    "    print(\"The word was not find\")"
   ]
  },
  {
   "cell_type": "code",
   "execution_count": 5,
   "metadata": {},
   "outputs": [
    {
     "data": {
      "text/plain": [
       "26"
      ]
     },
     "execution_count": 5,
     "metadata": {},
     "output_type": "execute_result"
    }
   ],
   "source": [
    "find.start() # were this patron start"
   ]
  },
  {
   "cell_type": "code",
   "execution_count": 6,
   "metadata": {},
   "outputs": [
    {
     "data": {
      "text/plain": [
       "31"
      ]
     },
     "execution_count": 6,
     "metadata": {},
     "output_type": "execute_result"
    }
   ],
   "source": [
    "find.end() # were the patron end"
   ]
  },
  {
   "cell_type": "code",
   "execution_count": 7,
   "metadata": {},
   "outputs": [
    {
     "data": {
      "text/plain": [
       "(26, 31)"
      ]
     },
     "execution_count": 7,
     "metadata": {},
     "output_type": "execute_result"
    }
   ],
   "source": [
    "find.span() # were start and end"
   ]
  },
  {
   "cell_type": "code",
   "execution_count": 8,
   "metadata": {},
   "outputs": [
    {
     "data": {
      "text/plain": [
       "'In this chain the word is magic'"
      ]
     },
     "execution_count": 8,
     "metadata": {},
     "output_type": "execute_result"
    }
   ],
   "source": [
    "find.string # if we want to recover all the string that contains this word"
   ]
  },
  {
   "cell_type": "markdown",
   "metadata": {},
   "source": [
    "**re.match**, search the patron at the beginning of the string"
   ]
  },
  {
   "cell_type": "code",
   "execution_count": 9,
   "metadata": {},
   "outputs": [
    {
     "data": {
      "text/plain": [
       "<re.Match object; span=(0, 5), match='Hello'>"
      ]
     },
     "execution_count": 9,
     "metadata": {},
     "output_type": "execute_result"
    }
   ],
   "source": [
    "text = \"Hello world\"\n",
    "re.match(\"Hello\", text) "
   ]
  },
  {
   "cell_type": "code",
   "execution_count": 10,
   "metadata": {},
   "outputs": [
    {
     "data": {
      "text/plain": [
       "<re.Match object; span=(0, 5), match='Hello'>"
      ]
     },
     "execution_count": 10,
     "metadata": {},
     "output_type": "execute_result"
    }
   ],
   "source": [
    "text = \"Hello world\"\n",
    "re.match(\"Hello\", text) # this will return none"
   ]
  },
  {
   "cell_type": "code",
   "execution_count": 11,
   "metadata": {},
   "outputs": [
    {
     "data": {
      "text/plain": [
       "['Lets', 'split', 'this', 'chain']"
      ]
     },
     "execution_count": 11,
     "metadata": {},
     "output_type": "execute_result"
    }
   ],
   "source": [
    "text = \"Lets split this chain\"\n",
    "re.split(' ', text) # split the string of a patron "
   ]
  },
  {
   "cell_type": "code",
   "execution_count": 12,
   "metadata": {},
   "outputs": [
    {
     "data": {
      "text/plain": [
       "'Bye friend'"
      ]
     },
     "execution_count": 12,
     "metadata": {},
     "output_type": "execute_result"
    }
   ],
   "source": [
    "text = \"Hello friend\"\n",
    "re.sub(\"Hello\", \"Bye\", text) # change the patron for another word"
   ]
  },
  {
   "cell_type": "code",
   "execution_count": 13,
   "metadata": {},
   "outputs": [
    {
     "data": {
      "text/plain": [
       "['hello', 'hello', 'hello']"
      ]
     },
     "execution_count": 13,
     "metadata": {},
     "output_type": "execute_result"
    }
   ],
   "source": [
    "text = \"hello bye hello hello bye\"\n",
    "re.findall(\"hello\", text) # find all the paterns in the string"
   ]
  },
  {
   "cell_type": "markdown",
   "metadata": {},
   "source": [
    "This is useful to know the number of repetitions for this patern"
   ]
  },
  {
   "cell_type": "code",
   "execution_count": 14,
   "metadata": {},
   "outputs": [
    {
     "data": {
      "text/plain": [
       "3"
      ]
     },
     "execution_count": 14,
     "metadata": {},
     "output_type": "execute_result"
    }
   ],
   "source": [
    "len(re.findall(\"hello\", text))"
   ]
  },
  {
   "cell_type": "code",
   "execution_count": 15,
   "metadata": {},
   "outputs": [
    {
     "data": {
      "text/plain": [
       "5"
      ]
     },
     "execution_count": 15,
     "metadata": {},
     "output_type": "execute_result"
    }
   ],
   "source": [
    "len(re.findall(\"e\", text))"
   ]
  },
  {
   "cell_type": "code",
   "execution_count": 16,
   "metadata": {},
   "outputs": [
    {
     "data": {
      "text/plain": [
       "['hello', 'hola', 'hello']"
      ]
     },
     "execution_count": 16,
     "metadata": {},
     "output_type": "execute_result"
    }
   ],
   "source": [
    "text = \"hello bye hola adios hello\"\n",
    "re.findall(\"(hola|hello)\", text) # now we can find more than one word"
   ]
  },
  {
   "cell_type": "code",
   "execution_count": 17,
   "metadata": {},
   "outputs": [
    {
     "data": {
      "text/plain": [
       "['hllo']"
      ]
     },
     "execution_count": 17,
     "metadata": {},
     "output_type": "execute_result"
    }
   ],
   "source": [
    "text = \"hllo hello hola hellooo heeello\"\n",
    "re.findall(\"hllo\", text)"
   ]
  },
  {
   "cell_type": "code",
   "execution_count": 18,
   "metadata": {},
   "outputs": [
    {
     "data": {
      "text/plain": [
       "['hola']"
      ]
     },
     "execution_count": 18,
     "metadata": {},
     "output_type": "execute_result"
    }
   ],
   "source": [
    "re.findall(\"hola\", text)"
   ]
  },
  {
   "cell_type": "markdown",
   "metadata": {},
   "source": [
    "This function will find repeating patterns"
   ]
  },
  {
   "cell_type": "code",
   "execution_count": 19,
   "metadata": {},
   "outputs": [
    {
     "name": "stdout",
     "output_type": "stream",
     "text": [
      "['hllo']\n",
      "['hello', 'hello']\n",
      "['hola']\n"
     ]
    }
   ],
   "source": [
    "text = \"hllo hello hola hellooo heeello\"\n",
    "\n",
    "def find_patterns(patterns, text):\n",
    "    for pattern in patterns:\n",
    "        print(re.findall(pattern, text))\n",
    "\n",
    "patterns = ['hllo', 'hello', 'hola']\n",
    "\n",
    "find_patterns(patterns, text)"
   ]
  },
  {
   "cell_type": "code",
   "execution_count": 20,
   "metadata": {},
   "outputs": [
    {
     "name": "stdout",
     "output_type": "stream",
     "text": [
      "['he', 'he', 'he']\n"
     ]
    }
   ],
   "source": [
    "text = \"hllo hello hola hellooo heeello\"\n",
    "patterns = ['he']\n",
    "\n",
    "find_patterns(patterns, text)"
   ]
  },
  {
   "cell_type": "markdown",
   "metadata": {},
   "source": [
    "The **meta-character***:\n",
    "\n",
    "We use it to define no or more repetitions of the letter to the left of the meta-character"
   ]
  },
  {
   "cell_type": "code",
   "execution_count": 21,
   "metadata": {},
   "outputs": [
    {
     "name": "stdout",
     "output_type": "stream",
     "text": [
      "['he', 'he', 'he']\n",
      "['h', 'he', 'h', 'he', 'heee']\n"
     ]
    }
   ],
   "source": [
    "text = \"hllo hello hola hellooo heeello\"\n",
    "patterns = ['he', 'he*'] \n",
    "\n",
    "find_patterns(patterns, text)"
   ]
  },
  {
   "cell_type": "code",
   "execution_count": 22,
   "metadata": {},
   "outputs": [
    {
     "name": "stdout",
     "output_type": "stream",
     "text": [
      "['he', 'he', 'he']\n",
      "['h', 'he', 'h', 'he', 'heee']\n",
      "['hola']\n",
      "['hllo', 'hello', 'hello', 'heeello']\n"
     ]
    }
   ],
   "source": [
    "text = \"hllo hello hola hellooo heeello\"\n",
    "patterns = ['he', 'he*', 'ho*la', 'he*llo'] \n",
    "\n",
    "find_patterns(patterns, text)"
   ]
  },
  {
   "cell_type": "markdown",
   "metadata": {},
   "source": [
    "The **meta-character+**:\n",
    "\n",
    "We use it to define one or more repetitions of the letter to the left of the meta-character"
   ]
  },
  {
   "cell_type": "code",
   "execution_count": 23,
   "metadata": {},
   "outputs": [
    {
     "name": "stdout",
     "output_type": "stream",
     "text": [
      "['he', 'he', 'he']\n",
      "['he', 'he', 'heee']\n",
      "['hola']\n",
      "['hello', 'hello', 'heeello']\n"
     ]
    }
   ],
   "source": [
    "text = \"hllo hello hola hellooo heeello\"\n",
    "patterns = ['he', 'he+', 'ho+la', 'he+llo'] \n",
    "\n",
    "find_patterns(patterns, text)"
   ]
  },
  {
   "cell_type": "code",
   "execution_count": 24,
   "metadata": {},
   "outputs": [
    {
     "name": "stdout",
     "output_type": "stream",
     "text": [
      "['h', 'he', 'h', 'he', 'heee']\n",
      "['he', 'he', 'heee']\n"
     ]
    }
   ],
   "source": [
    "text = \"hllo hello hola hellooo heeello\"\n",
    "patterns = ['he*', 'he+'] \n",
    "\n",
    "find_patterns(patterns, text)"
   ]
  },
  {
   "cell_type": "markdown",
   "metadata": {},
   "source": [
    "The **meta-character?**:\n",
    "\n",
    "We use it to define one or no repetitions of the letter to the left of the meta-character"
   ]
  },
  {
   "cell_type": "code",
   "execution_count": 25,
   "metadata": {},
   "outputs": [
    {
     "name": "stdout",
     "output_type": "stream",
     "text": [
      "['h', 'he', 'h', 'he', 'heee']\n",
      "['he', 'he', 'heee']\n",
      "['h', 'he', 'h', 'he', 'he']\n"
     ]
    }
   ],
   "source": [
    "text = \"hllo hello hola hellooo heeello\"\n",
    "patterns = ['he*', 'he+', 'he?'] \n",
    "\n",
    "find_patterns(patterns, text)"
   ]
  },
  {
   "cell_type": "code",
   "execution_count": 26,
   "metadata": {},
   "outputs": [
    {
     "name": "stdout",
     "output_type": "stream",
     "text": [
      "['h', 'he', 'h', 'he', 'heee']\n",
      "['he', 'he', 'heee']\n",
      "['h', 'he', 'h', 'he', 'he']\n",
      "['hllo', 'hello', 'hello']\n"
     ]
    }
   ],
   "source": [
    "text = \"hllo hello hola hellooo heeelloo\"\n",
    "patterns = ['he*', 'he+', 'he?', 'he?llo'] \n",
    "\n",
    "find_patterns(patterns, text)"
   ]
  },
  {
   "cell_type": "markdown",
   "metadata": {},
   "source": [
    "This is another sintaxis that indicates the explicit number of repetitions, indicate the number of repetitions of the letter to the left"
   ]
  },
  {
   "cell_type": "code",
   "execution_count": 36,
   "metadata": {},
   "outputs": [
    {
     "name": "stdout",
     "output_type": "stream",
     "text": [
      "['hllo']\n",
      "['hello', 'hello']\n",
      "['heeello']\n"
     ]
    }
   ],
   "source": [
    "text = \"hllo hello hola helloo heeelloo\"\n",
    "patterns = ['he{0}llo', 'he{1}llo', 'he{3}llo'] \n",
    "\n",
    "find_patterns(patterns, text)"
   ]
  },
  {
   "cell_type": "markdown",
   "metadata": {},
   "source": [
    "Now we can use a range {x, y} to indicate the number of characters that must appear in the pattern"
   ]
  },
  {
   "cell_type": "code",
   "execution_count": 39,
   "metadata": {},
   "outputs": [
    {
     "name": "stdout",
     "output_type": "stream",
     "text": [
      "['hllo', 'hello', 'hello']\n",
      "['hllo', 'hello', 'hello', 'heeello']\n"
     ]
    }
   ],
   "source": [
    "text = \"hllo hello hola helloo heeelloo\"\n",
    "patterns = ['he{0,1}llo', 'he{0,3}llo'] \n",
    "\n",
    "find_patterns(patterns, text)"
   ]
  },
  {
   "cell_type": "code",
   "execution_count": null,
   "metadata": {},
   "outputs": [],
   "source": []
  }
 ],
 "metadata": {
  "kernelspec": {
   "display_name": "Python 3",
   "language": "python",
   "name": "python3"
  },
  "language_info": {
   "codemirror_mode": {
    "name": "ipython",
    "version": 3
   },
   "file_extension": ".py",
   "mimetype": "text/x-python",
   "name": "python",
   "nbconvert_exporter": "python",
   "pygments_lexer": "ipython3",
   "version": "3.7.3"
  }
 },
 "nbformat": 4,
 "nbformat_minor": 2
}
