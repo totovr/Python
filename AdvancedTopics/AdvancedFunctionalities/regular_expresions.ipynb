{
 "cells": [
  {
   "cell_type": "markdown",
   "metadata": {},
   "source": [
    "### Regular expresions "
   ]
  },
  {
   "cell_type": "code",
   "execution_count": 1,
   "metadata": {},
   "outputs": [],
   "source": [
    "import re"
   ]
  },
  {
   "cell_type": "code",
   "execution_count": 2,
   "metadata": {},
   "outputs": [
    {
     "data": {
      "text/plain": [
       "<re.Match object; span=(26, 31), match='magic'>"
      ]
     },
     "execution_count": 2,
     "metadata": {},
     "output_type": "execute_result"
    }
   ],
   "source": [
    "text = \"In this chain the word is magic\"\n",
    "re.search(\"magic\", text)"
   ]
  },
  {
   "cell_type": "code",
   "execution_count": 3,
   "metadata": {},
   "outputs": [],
   "source": [
    "word = \"magic\"\n",
    "find = re.search(word, text) # Return true or none"
   ]
  },
  {
   "cell_type": "code",
   "execution_count": 4,
   "metadata": {},
   "outputs": [
    {
     "name": "stdout",
     "output_type": "stream",
     "text": [
      "The word was find\n"
     ]
    }
   ],
   "source": [
    "if find is not None:\n",
    "    print(\"The word was find\")\n",
    "else:\n",
    "    print(\"The word was not find\")"
   ]
  },
  {
   "cell_type": "code",
   "execution_count": 5,
   "metadata": {},
   "outputs": [
    {
     "data": {
      "text/plain": [
       "26"
      ]
     },
     "execution_count": 5,
     "metadata": {},
     "output_type": "execute_result"
    }
   ],
   "source": [
    "find.start() # were this patron start"
   ]
  },
  {
   "cell_type": "code",
   "execution_count": 6,
   "metadata": {},
   "outputs": [
    {
     "data": {
      "text/plain": [
       "31"
      ]
     },
     "execution_count": 6,
     "metadata": {},
     "output_type": "execute_result"
    }
   ],
   "source": [
    "find.end() # were the patron end"
   ]
  },
  {
   "cell_type": "code",
   "execution_count": 7,
   "metadata": {},
   "outputs": [
    {
     "data": {
      "text/plain": [
       "(26, 31)"
      ]
     },
     "execution_count": 7,
     "metadata": {},
     "output_type": "execute_result"
    }
   ],
   "source": [
    "find.span() # were start and end"
   ]
  },
  {
   "cell_type": "code",
   "execution_count": 8,
   "metadata": {},
   "outputs": [
    {
     "data": {
      "text/plain": [
       "'In this chain the word is magic'"
      ]
     },
     "execution_count": 8,
     "metadata": {},
     "output_type": "execute_result"
    }
   ],
   "source": [
    "find.string # if we want to recover all the string that contains this word"
   ]
  },
  {
   "cell_type": "markdown",
   "metadata": {},
   "source": [
    "**re.match**, search the patron at the beginning of the string"
   ]
  },
  {
   "cell_type": "code",
   "execution_count": 9,
   "metadata": {},
   "outputs": [
    {
     "data": {
      "text/plain": [
       "<re.Match object; span=(0, 5), match='Hello'>"
      ]
     },
     "execution_count": 9,
     "metadata": {},
     "output_type": "execute_result"
    }
   ],
   "source": [
    "text = \"Hello world\"\n",
    "re.match(\"Hello\", text) "
   ]
  },
  {
   "cell_type": "code",
   "execution_count": 10,
   "metadata": {},
   "outputs": [
    {
     "data": {
      "text/plain": [
       "<re.Match object; span=(0, 5), match='Hello'>"
      ]
     },
     "execution_count": 10,
     "metadata": {},
     "output_type": "execute_result"
    }
   ],
   "source": [
    "text = \"Hello world\"\n",
    "re.match(\"Hello\", text) # this will return none"
   ]
  },
  {
   "cell_type": "code",
   "execution_count": 11,
   "metadata": {},
   "outputs": [
    {
     "data": {
      "text/plain": [
       "['Lets', 'split', 'this', 'chain']"
      ]
     },
     "execution_count": 11,
     "metadata": {},
     "output_type": "execute_result"
    }
   ],
   "source": [
    "text = \"Lets split this chain\"\n",
    "re.split(' ', text) # split the string of a patron "
   ]
  },
  {
   "cell_type": "code",
   "execution_count": 12,
   "metadata": {},
   "outputs": [
    {
     "data": {
      "text/plain": [
       "'Bye friend'"
      ]
     },
     "execution_count": 12,
     "metadata": {},
     "output_type": "execute_result"
    }
   ],
   "source": [
    "text = \"Hello friend\"\n",
    "re.sub(\"Hello\", \"Bye\", text) # change the patron for another word"
   ]
  },
  {
   "cell_type": "code",
   "execution_count": 13,
   "metadata": {},
   "outputs": [
    {
     "data": {
      "text/plain": [
       "['hello', 'hello', 'hello']"
      ]
     },
     "execution_count": 13,
     "metadata": {},
     "output_type": "execute_result"
    }
   ],
   "source": [
    "text = \"hello bye hello hello bye\"\n",
    "re.findall(\"hello\", text) # find all the paterns in the string"
   ]
  },
  {
   "cell_type": "markdown",
   "metadata": {},
   "source": [
    "This is useful to know the number of repetitions for this patern"
   ]
  },
  {
   "cell_type": "code",
   "execution_count": 14,
   "metadata": {},
   "outputs": [
    {
     "data": {
      "text/plain": [
       "3"
      ]
     },
     "execution_count": 14,
     "metadata": {},
     "output_type": "execute_result"
    }
   ],
   "source": [
    "len(re.findall(\"hello\", text))"
   ]
  },
  {
   "cell_type": "code",
   "execution_count": 15,
   "metadata": {},
   "outputs": [
    {
     "data": {
      "text/plain": [
       "5"
      ]
     },
     "execution_count": 15,
     "metadata": {},
     "output_type": "execute_result"
    }
   ],
   "source": [
    "len(re.findall(\"e\", text))"
   ]
  },
  {
   "cell_type": "code",
   "execution_count": 16,
   "metadata": {},
   "outputs": [
    {
     "data": {
      "text/plain": [
       "['hello', 'hola', 'hello']"
      ]
     },
     "execution_count": 16,
     "metadata": {},
     "output_type": "execute_result"
    }
   ],
   "source": [
    "text = \"hello bye hola adios hello\"\n",
    "re.findall(\"(hola|hello)\", text) # now we can find more than one word"
   ]
  },
  {
   "cell_type": "code",
   "execution_count": 17,
   "metadata": {},
   "outputs": [
    {
     "data": {
      "text/plain": [
       "['hllo']"
      ]
     },
     "execution_count": 17,
     "metadata": {},
     "output_type": "execute_result"
    }
   ],
   "source": [
    "text = \"hllo hello hola hellooo heeello\"\n",
    "re.findall(\"hllo\", text)"
   ]
  },
  {
   "cell_type": "code",
   "execution_count": 18,
   "metadata": {},
   "outputs": [
    {
     "data": {
      "text/plain": [
       "['hola']"
      ]
     },
     "execution_count": 18,
     "metadata": {},
     "output_type": "execute_result"
    }
   ],
   "source": [
    "re.findall(\"hola\", text)"
   ]
  },
  {
   "cell_type": "markdown",
   "metadata": {},
   "source": [
    "This function will find repeating patterns"
   ]
  },
  {
   "cell_type": "code",
   "execution_count": 19,
   "metadata": {},
   "outputs": [
    {
     "name": "stdout",
     "output_type": "stream",
     "text": [
      "['hllo']\n",
      "['hello', 'hello']\n",
      "['hola']\n"
     ]
    }
   ],
   "source": [
    "text = \"hllo hello hola hellooo heeello\"\n",
    "\n",
    "def find_patterns(patterns, text):\n",
    "    for pattern in patterns:\n",
    "        print(re.findall(pattern, text))\n",
    "\n",
    "patterns = ['hllo', 'hello', 'hola']\n",
    "\n",
    "find_patterns(patterns, text)"
   ]
  },
  {
   "cell_type": "code",
   "execution_count": 20,
   "metadata": {},
   "outputs": [
    {
     "name": "stdout",
     "output_type": "stream",
     "text": [
      "['he', 'he', 'he']\n"
     ]
    }
   ],
   "source": [
    "text = \"hllo hello hola hellooo heeello\"\n",
    "patterns = ['he']\n",
    "\n",
    "find_patterns(patterns, text)"
   ]
  },
  {
   "cell_type": "markdown",
   "metadata": {},
   "source": [
    "The **meta-character***:\n",
    "\n",
    "We use it to define no or more repetitions of the letter to the left of the meta-character"
   ]
  },
  {
   "cell_type": "code",
   "execution_count": 21,
   "metadata": {},
   "outputs": [
    {
     "name": "stdout",
     "output_type": "stream",
     "text": [
      "['he', 'he', 'he']\n",
      "['h', 'he', 'h', 'he', 'heee']\n"
     ]
    }
   ],
   "source": [
    "text = \"hllo hello hola hellooo heeello\"\n",
    "patterns = ['he', 'he*'] \n",
    "\n",
    "find_patterns(patterns, text)"
   ]
  },
  {
   "cell_type": "code",
   "execution_count": 22,
   "metadata": {},
   "outputs": [
    {
     "name": "stdout",
     "output_type": "stream",
     "text": [
      "['he', 'he', 'he']\n",
      "['h', 'he', 'h', 'he', 'heee']\n",
      "['hola']\n",
      "['hllo', 'hello', 'hello', 'heeello']\n"
     ]
    }
   ],
   "source": [
    "text = \"hllo hello hola hellooo heeello\"\n",
    "patterns = ['he', 'he*', 'ho*la', 'he*llo'] \n",
    "\n",
    "find_patterns(patterns, text)"
   ]
  },
  {
   "cell_type": "markdown",
   "metadata": {},
   "source": [
    "The **meta-character+**:\n",
    "\n",
    "We use it to define one or more repetitions of the letter to the left of the meta-character"
   ]
  },
  {
   "cell_type": "code",
   "execution_count": 23,
   "metadata": {},
   "outputs": [
    {
     "name": "stdout",
     "output_type": "stream",
     "text": [
      "['he', 'he', 'he']\n",
      "['he', 'he', 'heee']\n",
      "['hola']\n",
      "['hello', 'hello', 'heeello']\n"
     ]
    }
   ],
   "source": [
    "text = \"hllo hello hola hellooo heeello\"\n",
    "patterns = ['he', 'he+', 'ho+la', 'he+llo'] \n",
    "\n",
    "find_patterns(patterns, text)"
   ]
  },
  {
   "cell_type": "code",
   "execution_count": 24,
   "metadata": {},
   "outputs": [
    {
     "name": "stdout",
     "output_type": "stream",
     "text": [
      "['h', 'he', 'h', 'he', 'heee']\n",
      "['he', 'he', 'heee']\n"
     ]
    }
   ],
   "source": [
    "text = \"hllo hello hola hellooo heeello\"\n",
    "patterns = ['he*', 'he+'] \n",
    "\n",
    "find_patterns(patterns, text)"
   ]
  },
  {
   "cell_type": "markdown",
   "metadata": {},
   "source": [
    "The **meta-character?**:\n",
    "\n",
    "We use it to define one or no repetitions of the letter to the left of the meta-character"
   ]
  },
  {
   "cell_type": "code",
   "execution_count": 25,
   "metadata": {},
   "outputs": [
    {
     "name": "stdout",
     "output_type": "stream",
     "text": [
      "['h', 'he', 'h', 'he', 'heee']\n",
      "['he', 'he', 'heee']\n",
      "['h', 'he', 'h', 'he', 'he']\n"
     ]
    }
   ],
   "source": [
    "text = \"hllo hello hola hellooo heeello\"\n",
    "patterns = ['he*', 'he+', 'he?'] \n",
    "\n",
    "find_patterns(patterns, text)"
   ]
  },
  {
   "cell_type": "code",
   "execution_count": 26,
   "metadata": {},
   "outputs": [
    {
     "name": "stdout",
     "output_type": "stream",
     "text": [
      "['h', 'he', 'h', 'he', 'heee']\n",
      "['he', 'he', 'heee']\n",
      "['h', 'he', 'h', 'he', 'he']\n",
      "['hllo', 'hello', 'hello']\n"
     ]
    }
   ],
   "source": [
    "text = \"hllo hello hola hellooo heeelloo\"\n",
    "patterns = ['he*', 'he+', 'he?', 'he?llo'] \n",
    "\n",
    "find_patterns(patterns, text)"
   ]
  },
  {
   "cell_type": "markdown",
   "metadata": {},
   "source": [
    "This is another sintaxis that indicates the explicit number of repetitions, indicate the number of repetitions of the letter to the left"
   ]
  },
  {
   "cell_type": "code",
   "execution_count": 27,
   "metadata": {},
   "outputs": [
    {
     "name": "stdout",
     "output_type": "stream",
     "text": [
      "['hllo']\n",
      "['hello', 'hello']\n",
      "['heeello']\n"
     ]
    }
   ],
   "source": [
    "text = \"hllo hello hola helloo heeelloo\"\n",
    "patterns = ['he{0}llo', 'he{1}llo', 'he{3}llo'] \n",
    "\n",
    "find_patterns(patterns, text)"
   ]
  },
  {
   "cell_type": "markdown",
   "metadata": {},
   "source": [
    "Now we can use a range {x, y} to indicate the number of characters that must appear in the pattern"
   ]
  },
  {
   "cell_type": "code",
   "execution_count": 28,
   "metadata": {},
   "outputs": [
    {
     "name": "stdout",
     "output_type": "stream",
     "text": [
      "['hllo', 'hello', 'hello']\n",
      "['hllo', 'hello', 'hello', 'heeello']\n"
     ]
    }
   ],
   "source": [
    "text = \"hllo hello hola helloo heeelloo\"\n",
    "patterns = ['he{0,1}llo', 'he{0,3}llo'] \n",
    "\n",
    "find_patterns(patterns, text)"
   ]
  },
  {
   "cell_type": "markdown",
   "metadata": {},
   "source": [
    "Find a set of characters"
   ]
  },
  {
   "cell_type": "code",
   "execution_count": 29,
   "metadata": {},
   "outputs": [
    {
     "name": "stdout",
     "output_type": "stream",
     "text": [
      "['hola', 'hula']\n",
      "['hala', 'hila', 'hola']\n",
      "['hala', 'hela', 'hila', 'hola', 'hula']\n"
     ]
    }
   ],
   "source": [
    "text = \"hala hela hila hola hula\"\n",
    "patterns = ['h[ou]la', 'h[aio]la', 'h[aeiou]la'] \n",
    "\n",
    "find_patterns(patterns, text)"
   ]
  },
  {
   "cell_type": "markdown",
   "metadata": {},
   "source": [
    "If we want to determinate if the pattern has repetitions we can use the metacharacter *"
   ]
  },
  {
   "cell_type": "code",
   "execution_count": 30,
   "metadata": {},
   "outputs": [
    {
     "name": "stdout",
     "output_type": "stream",
     "text": [
      "[]\n",
      "['haala', 'heeela']\n",
      "['hiiiila', 'hooooola']\n"
     ]
    }
   ],
   "source": [
    "text = \"haala heeela hiiiila hooooola\"\n",
    "patterns = ['h[ae]la', 'h[ae]*la', 'h[io]{3,9}la'] \n",
    "\n",
    "find_patterns(patterns, text)"
   ]
  },
  {
   "cell_type": "markdown",
   "metadata": {},
   "source": [
    "With the character **^** we can exclude "
   ]
  },
  {
   "cell_type": "code",
   "execution_count": 31,
   "metadata": {},
   "outputs": [
    {
     "name": "stdout",
     "output_type": "stream",
     "text": [
      "['hola']\n",
      "['hala', 'hela', 'hila', 'hula']\n"
     ]
    }
   ],
   "source": [
    "text = \"hala hela hila hola hula\"\n",
    "patterns = ['h[o]la', 'h[^o]la'] \n",
    "\n",
    "find_patterns(patterns, text)"
   ]
  },
  {
   "cell_type": "markdown",
   "metadata": {},
   "source": [
    "##### Ranges [-]:\n",
    "\n",
    "Another feature that makes groups ultra powerful is the ability to define ranges. Examples of ranges:\n",
    "\n",
    "* **[A-Z]:** Any uppercase alphabetic character (no special or number).\n",
    "* **[a-z]:** Any alphabetic character in lowercase (not special or number).\n",
    "* **[A-Za-z]:** Any alphabetic character in lowercase or capital (not special or number).\n",
    "* **[A-z]:** Any alphabetic character in lowercase or capital (not special or number).\n",
    "* **[0-9]:** Any numeric character (not special or alphabetic).\n",
    "* **[a-zA-Z0-9]:** Any alphanumeric character (not special).\n",
    "\n",
    "Keep in mind that any range can be excluded to get the opposite pattern."
   ]
  },
  {
   "cell_type": "code",
   "execution_count": 32,
   "metadata": {},
   "outputs": [
    {
     "name": "stdout",
     "output_type": "stream",
     "text": [
      "['hola']\n",
      "['h0la']\n",
      "['hola', 'Hola', 'mola', 'defs']\n",
      "['hola', 'h0la', 'Hola', 'mola', 'm0la', 'M0la', 'defs']\n"
     ]
    }
   ],
   "source": [
    "text = \"hola h0la Hola mola m0la M0la defs\"\n",
    "patterns = ['h[a-z]la', 'h[0-9]la', '[A-z]{4}', '[A-z][A-z0-9]{3}'] \n",
    "\n",
    "find_patterns(patterns, text)"
   ]
  },
  {
   "cell_type": "markdown",
   "metadata": {},
   "source": [
    "If every time we wanted to define a variable pattern we had to create ranges, in the end we would have giant regular expressions. Luckily, its syntax also accepts a series of escaped characters that have a unique meaning. Some of the most important are:\n",
    "\n",
    "<p style='text-align: left;'> \n",
    "\n",
    "| Code |     Meaning      |\n",
    "|:----:|:----------------:|\n",
    "|  \\d  |     numeric      | \n",
    "|  \\D  |   not numeric    | \n",
    "|  \\s  |   blank space    | \n",
    "|  \\S  |  not blank space | \n",
    "|  \\w  |   alphanumeric   | \n",
    "|  \\W  | not alphanumeric | \n",
    "\n",
    "</p>"
   ]
  },
  {
   "cell_type": "code",
   "execution_count": 33,
   "metadata": {
    "scrolled": true
   },
   "outputs": [
    {
     "name": "stdout",
     "output_type": "stream",
     "text": [
      "['2', '0', '1', '9']\n",
      "['2019']\n",
      "['T', 'h', 'i', 's', ' ', 'i', 's', ' ', 'g', 'o', 'i', 'n', 'g', ' ', 't', 'o', ' ', 'b', 'e', ' ', 'o', 'v', 'e', 'r', ' ', 's', 'o', 'o', 'n', ' ']\n",
      "['This is going to be over soon ']\n"
     ]
    }
   ],
   "source": [
    "text = \"This is going to be over soon 2019\"\n",
    "patterns = [r'\\d', r'\\d+', r'\\D', r'\\D+'] \n",
    "\n",
    "find_patterns(patterns, text)"
   ]
  },
  {
   "cell_type": "code",
   "execution_count": 34,
   "metadata": {},
   "outputs": [
    {
     "name": "stdout",
     "output_type": "stream",
     "text": [
      "['0', '8', '2', '0', '1', '9']\n",
      "['08', '2019']\n",
      "['T', 'h', 'i', 's', ' ', 'i', 's', ' ', 'g', 'o', 'i', 'n', 'g', ' ', 't', 'o', ' ', ' ', 'b', 'e', ' ', 'o', 'v', 'e', 'r', ' ', 's', 'o', 'o', 'n', ' ']\n",
      "['This is going to ', ' be over soon ']\n",
      "[' ', ' ', ' ', ' ', ' ', ' ', ' ', ' ']\n",
      "['T', 'h', 'i', 's', 'i', 's', 'g', 'o', 'i', 'n', 'g', 't', 'o', '0', '8', 'b', 'e', 'o', 'v', 'e', 'r', 's', 'o', 'o', 'n', '2', '0', '1', '9']\n",
      "['This', 'is', 'going', 'to', '08', 'be', 'over', 'soon', '2019']\n",
      "['T', 'h', 'i', 's', 'i', 's', 'g', 'o', 'i', 'n', 'g', 't', 'o', '0', '8', 'b', 'e', 'o', 'v', 'e', 'r', 's', 'o', 'o', 'n', '2', '0', '1', '9']\n",
      "['This', 'is', 'going', 'to', '08', 'be', 'over', 'soon', '2019']\n",
      "[' ', ' ', ' ', ' ', ' ', ' ', ' ', ' ']\n",
      "[' ', ' ', ' ', ' ', ' ', ' ', ' ', ' ']\n"
     ]
    }
   ],
   "source": [
    "# Now if we put a number in the middle of the chain\n",
    "\n",
    "text = \"This is going to 08 be over soon 2019\"\n",
    "patterns = [r'\\d', r'\\d+', r'\\D', r'\\D+', r'\\s', r'\\S', r'\\S+', r'\\w', r'\\w+',r'\\W',r'\\W+'] \n",
    "\n",
    "# \\S+ is equal to \\w+\n",
    "# \\s is equal to \\W and \\W+, in the case of \\W+ we have to take care if we have more than one space \n",
    "\n",
    "find_patterns(patterns, text)"
   ]
  },
  {
   "cell_type": "code",
   "execution_count": null,
   "metadata": {},
   "outputs": [],
   "source": []
  }
 ],
 "metadata": {
  "kernelspec": {
   "display_name": "Python 3",
   "language": "python",
   "name": "python3"
  },
  "language_info": {
   "codemirror_mode": {
    "name": "ipython",
    "version": 3
   },
   "file_extension": ".py",
   "mimetype": "text/x-python",
   "name": "python",
   "nbconvert_exporter": "python",
   "pygments_lexer": "ipython3",
   "version": "3.7.3"
  }
 },
 "nbformat": 4,
 "nbformat_minor": 2
}
