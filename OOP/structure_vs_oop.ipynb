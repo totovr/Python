{
 "cells": [
  {
   "cell_type": "code",
   "execution_count": 19,
   "metadata": {},
   "outputs": [],
   "source": [
    "clients = [\n",
    "    {\"Name\": \"Antonio\", \"Last name\": \"Vega\", \"DNI\": \"22021992\"},\n",
    "    {\"Name\": \"Alex\", \"Last name\": \"Vega\", \"DNI\": \"11042005\"}\n",
    "]\n",
    "   "
   ]
  },
  {
   "cell_type": "code",
   "execution_count": 17,
   "metadata": {},
   "outputs": [
    {
     "data": {
      "text/plain": [
       "'Antonio'"
      ]
     },
     "execution_count": 17,
     "metadata": {},
     "output_type": "execute_result"
    }
   ],
   "source": [
    "clients[0][\"Name\"]"
   ]
  },
  {
   "cell_type": "code",
   "execution_count": 22,
   "metadata": {},
   "outputs": [],
   "source": [
    "def show_client(clients, DNI):\n",
    "    for c in clients:\n",
    "        if(DNI == c['DNI']):\n",
    "            print(\"{} {}\".format(c[\"Name\"], c[\"Last name\"]))\n",
    "            return\n",
    "        \n",
    "    print(\"client not found\")"
   ]
  },
  {
   "cell_type": "code",
   "execution_count": 23,
   "metadata": {},
   "outputs": [
    {
     "name": "stdout",
     "output_type": "stream",
     "text": [
      "Antonio Vega\n"
     ]
    }
   ],
   "source": [
    "show_client(clients, \"22021992\")"
   ]
  },
  {
   "cell_type": "code",
   "execution_count": 26,
   "metadata": {},
   "outputs": [],
   "source": [
    "def erase_client(clients, DNI):\n",
    "    for i, c in enumerate(clients):\n",
    "        if(DNI == c['DNI']):\n",
    "            del(clients[i])\n",
    "            print(\"The user {} {} was delate\".format(c[\"Name\"], c[\"Last name\"]))\n",
    "            return\n",
    "    print(\"client not found\")"
   ]
  },
  {
   "cell_type": "code",
   "execution_count": 27,
   "metadata": {},
   "outputs": [
    {
     "name": "stdout",
     "output_type": "stream",
     "text": [
      "The user Antonio Vega was delate\n"
     ]
    }
   ],
   "source": [
    "erase_client(clients, \"22021992\")"
   ]
  },
  {
   "cell_type": "code",
   "execution_count": null,
   "metadata": {},
   "outputs": [],
   "source": []
  }
 ],
 "metadata": {
  "kernelspec": {
   "display_name": "Python 3",
   "language": "python",
   "name": "python3"
  },
  "language_info": {
   "codemirror_mode": {
    "name": "ipython",
    "version": 3
   },
   "file_extension": ".py",
   "mimetype": "text/x-python",
   "name": "python",
   "nbconvert_exporter": "python",
   "pygments_lexer": "ipython3",
   "version": "3.6.5"
  }
 },
 "nbformat": 4,
 "nbformat_minor": 2
}
