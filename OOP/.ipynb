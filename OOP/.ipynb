{
 "cells": [
  {
   "cell_type": "code",
   "execution_count": 1,
   "metadata": {},
   "outputs": [],
   "source": [
    "\"\"\" Example of structure programation \"\"\"\n",
    "\n",
    "clients = [\n",
    "    {\"Name\": \"Antonio\", \"Last name\": \"Vega\", \"DNI\": \"22021992\"},\n",
    "    {\"Name\": \"Alex\", \"Last name\": \"Vega\", \"DNI\": \"11042005\"}\n",
    "]\n",
    "   "
   ]
  },
  {
   "cell_type": "code",
   "execution_count": 2,
   "metadata": {},
   "outputs": [
    {
     "data": {
      "text/plain": [
       "'Antonio'"
      ]
     },
     "execution_count": 2,
     "metadata": {},
     "output_type": "execute_result"
    }
   ],
   "source": [
    "clients[0][\"Name\"]"
   ]
  },
  {
   "cell_type": "code",
   "execution_count": 3,
   "metadata": {},
   "outputs": [],
   "source": [
    "def show_client(clients, DNI):\n",
    "    for c in clients:\n",
    "        if(DNI == c['DNI']):\n",
    "            print(\"{} {}\".format(c[\"Name\"], c[\"Last name\"]))\n",
    "            return\n",
    "        \n",
    "    print(\"client not found\")"
   ]
  },
  {
   "cell_type": "code",
   "execution_count": 4,
   "metadata": {},
   "outputs": [
    {
     "name": "stdout",
     "output_type": "stream",
     "text": [
      "Antonio Vega\n"
     ]
    }
   ],
   "source": [
    "show_client(clients, \"22021992\")"
   ]
  },
  {
   "cell_type": "code",
   "execution_count": 5,
   "metadata": {},
   "outputs": [],
   "source": [
    "def erase_client(clients, DNI):\n",
    "    for i, c in enumerate(clients):\n",
    "        if(DNI == c['DNI']):\n",
    "            del(clients[i])\n",
    "            print(\"The user {} {} was delate\".format(c[\"Name\"], c[\"Last name\"]))\n",
    "            return\n",
    "    print(\"client not found\")"
   ]
  },
  {
   "cell_type": "code",
   "execution_count": 6,
   "metadata": {},
   "outputs": [
    {
     "name": "stdout",
     "output_type": "stream",
     "text": [
      "The user Antonio Vega was delate\n"
     ]
    }
   ],
   "source": [
    "erase_client(clients, \"22021992\")"
   ]
  },
  {
   "cell_type": "markdown",
   "metadata": {},
   "source": [
    "<div class=\"pagebreak\"></div>"
   ]
  },
  {
   "cell_type": "markdown",
   "metadata": {},
   "source": [
    "<div class=\"pagebreak\"></div>"
   ]
  },
  {
   "cell_type": "markdown",
   "metadata": {},
   "source": [
    "<div class=\"pagebreak\"></div>"
   ]
  },
  {
   "cell_type": "markdown",
   "metadata": {},
   "source": [
    "# This is an example of a Class"
   ]
  },
  {
   "cell_type": "code",
   "execution_count": 38,
   "metadata": {},
   "outputs": [],
   "source": [
    "class Client:\n",
    "    \n",
    "    def __init__(self, DNI, name, lastName):\n",
    "        self.DNI = DNI\n",
    "        self.name = name\n",
    "        self.lastName = lastName\n",
    "        \n",
    "    def __str__(self):\n",
    "        return '{} {}'.format(self.name,self.lastName)\n",
    "    \n",
    "\n",
    "class Company:\n",
    "    \n",
    "    def __init__(self, clients=[]):\n",
    "        self.clients = clients\n",
    "        \n",
    "    def show_clients(self, DNI=None):\n",
    "        for c in self.clients:\n",
    "            if c.DNI == DNI:\n",
    "                print(c)\n",
    "                return\n",
    "        print(\"The user was not found\")\n",
    "    \n",
    "    def erase_client(self, DNI = None):\n",
    "        for i,c in enumerate(self.clients):\n",
    "            if c.DNI == DNI:\n",
    "                del(self.clients[i])\n",
    "                print(str(c),\"> ERASED\")\n",
    "                return\n",
    "        print(\"Client not found\")"
   ]
  },
  {
   "cell_type": "code",
   "execution_count": 39,
   "metadata": {},
   "outputs": [],
   "source": [
    "Tono = Client(22021992, \"Antonio\", \"Vega\")"
   ]
  },
  {
   "cell_type": "code",
   "execution_count": 40,
   "metadata": {},
   "outputs": [
    {
     "data": {
      "text/plain": [
       "<__main__.Client at 0x7f578c91f898>"
      ]
     },
     "execution_count": 40,
     "metadata": {},
     "output_type": "execute_result"
    }
   ],
   "source": [
    "Tono"
   ]
  },
  {
   "cell_type": "code",
   "execution_count": 41,
   "metadata": {},
   "outputs": [],
   "source": [
    "Alex = Client(\"11042005\", \"Alexandro\", \"Vega\")"
   ]
  },
  {
   "cell_type": "code",
   "execution_count": 42,
   "metadata": {},
   "outputs": [
    {
     "data": {
      "text/plain": [
       "<__main__.Client at 0x7f578c91fb38>"
      ]
     },
     "execution_count": 42,
     "metadata": {},
     "output_type": "execute_result"
    }
   ],
   "source": [
    "Alex"
   ]
  },
  {
   "cell_type": "code",
   "execution_count": 43,
   "metadata": {},
   "outputs": [],
   "source": [
    "company = Company(clients = [Tono, Alex])"
   ]
  },
  {
   "cell_type": "code",
   "execution_count": 44,
   "metadata": {},
   "outputs": [
    {
     "data": {
      "text/plain": [
       "[<__main__.Client at 0x7f578c91f898>, <__main__.Client at 0x7f578c91fb38>]"
      ]
     },
     "execution_count": 44,
     "metadata": {},
     "output_type": "execute_result"
    }
   ],
   "source": [
    "company.clients"
   ]
  },
  {
   "cell_type": "code",
   "execution_count": 45,
   "metadata": {},
   "outputs": [
    {
     "name": "stdout",
     "output_type": "stream",
     "text": [
      "Alexandro Vega\n"
     ]
    }
   ],
   "source": [
    "company.show_clients(DNI = \"11042005\")"
   ]
  },
  {
   "cell_type": "code",
   "execution_count": 46,
   "metadata": {},
   "outputs": [
    {
     "name": "stdout",
     "output_type": "stream",
     "text": [
      "Alexandro Vega > ERASED\n"
     ]
    }
   ],
   "source": [
    "company.erase_client(DNI = \"11042005\")"
   ]
  },
  {
   "cell_type": "code",
   "execution_count": 47,
   "metadata": {},
   "outputs": [
    {
     "data": {
      "text/plain": [
       "[<__main__.Client at 0x7f578c91f898>]"
      ]
     },
     "execution_count": 47,
     "metadata": {},
     "output_type": "execute_result"
    }
   ],
   "source": [
    "company.clients"
   ]
  },
  {
   "cell_type": "code",
   "execution_count": null,
   "metadata": {},
   "outputs": [],
   "source": []
  }
 ],
 "metadata": {
  "kernelspec": {
   "display_name": "Python 3",
   "language": "python",
   "name": "python3"
  },
  "language_info": {
   "codemirror_mode": {
    "name": "ipython",
    "version": 3
   },
   "file_extension": ".py",
   "mimetype": "text/x-python",
   "name": "python",
   "nbconvert_exporter": "python",
   "pygments_lexer": "ipython3",
   "version": "3.5.2"
  }
 },
 "nbformat": 4,
 "nbformat_minor": 2
}
