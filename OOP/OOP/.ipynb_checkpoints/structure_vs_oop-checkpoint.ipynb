{
 "cells": [
  {
   "cell_type": "code",
   "execution_count": 6,
   "metadata": {},
   "outputs": [],
   "source": [
    "\"\"\" Example of structure programation \"\"\"\n",
    "\n",
    "clients = [\n",
    "    {\"Name\": \"Antonio\", \"Last name\": \"Vega\", \"DNI\": \"22021992\"},\n",
    "    {\"Name\": \"Alex\", \"Last name\": \"Vega\", \"DNI\": \"11042005\"}\n",
    "]\n",
    "   "
   ]
  },
  {
   "cell_type": "code",
   "execution_count": 7,
   "metadata": {},
   "outputs": [
    {
     "data": {
      "text/plain": [
       "'Antonio'"
      ]
     },
     "execution_count": 7,
     "metadata": {},
     "output_type": "execute_result"
    }
   ],
   "source": [
    "clients[0][\"Name\"]"
   ]
  },
  {
   "cell_type": "code",
   "execution_count": 8,
   "metadata": {},
   "outputs": [],
   "source": [
    "def show_client(clients, DNI):\n",
    "    for c in clients:\n",
    "        if(DNI == c['DNI']):\n",
    "            print(\"{} {}\".format(c[\"Name\"], c[\"Last name\"]))\n",
    "            return\n",
    "        \n",
    "    print(\"client not found\")"
   ]
  },
  {
   "cell_type": "code",
   "execution_count": 9,
   "metadata": {},
   "outputs": [
    {
     "name": "stdout",
     "output_type": "stream",
     "text": [
      "Antonio Vega\n"
     ]
    }
   ],
   "source": [
    "show_client(clients, \"22021992\")"
   ]
  },
  {
   "cell_type": "code",
   "execution_count": 10,
   "metadata": {},
   "outputs": [],
   "source": [
    "def erase_client(clients, DNI):\n",
    "    for i, c in enumerate(clients):\n",
    "        if(DNI == c['DNI']):\n",
    "            del(clients[i])\n",
    "            print(\"The user {} {} was delate\".format(c[\"Name\"], c[\"Last name\"]))\n",
    "            return\n",
    "    print(\"client not found\")"
   ]
  },
  {
   "cell_type": "code",
   "execution_count": 11,
   "metadata": {},
   "outputs": [
    {
     "name": "stdout",
     "output_type": "stream",
     "text": [
      "The user Antonio Vega was delate\n"
     ]
    }
   ],
   "source": [
    "erase_client(clients, \"22021992\")"
   ]
  },
  {
   "cell_type": "markdown",
   "metadata": {},
   "source": [
    "<div class=\"pagebreak\"></div>"
   ]
  },
  {
   "cell_type": "markdown",
   "metadata": {},
   "source": [
    "<div class=\"pagebreak\"></div>"
   ]
  },
  {
   "cell_type": "markdown",
   "metadata": {},
   "source": [
    "<div class=\"pagebreak\"></div>"
   ]
  },
  {
   "cell_type": "code",
   "execution_count": 15,
   "metadata": {},
   "outputs": [],
   "source": [
    "class Client:\n",
    "    \n",
    "    def __init__(self, dni, name, lastName):\n",
    "        self.dni = dni\n",
    "        self.nombre = name\n",
    "        self.apellidos = lastName\n",
    "        \n",
    "    def __str__(self):\n",
    "        return '{} {}'.format(self.name,self.lastName)\n",
    "    \n",
    "\n",
    "class Company:\n",
    "    \n",
    "    def __init__(self, clients=[]):\n",
    "        self.clients = clients\n",
    "        \n",
    "    def mostrar_cliente(self, dni=None):\n",
    "        for c in self.clients:\n",
    "            if c.dni == dni:\n",
    "                print(c)\n",
    "                return\n",
    "        print(\"The user was not found\")\n",
    "    \n",
    "    def borrar_cliente(self, dni=None):\n",
    "        for i,c in enumerate(self.clients):\n",
    "            if c.dni == dni:\n",
    "                del(self.clients[i])\n",
    "                print(str(c),\"> ERASED\")\n",
    "                return\n",
    "        print(\"Client not found\")"
   ]
  },
  {
   "cell_type": "code",
   "execution_count": 16,
   "metadata": {},
   "outputs": [],
   "source": [
    "Tono = Client(22021992, \"Antonio\", \"Vega\")"
   ]
  },
  {
   "cell_type": "code",
   "execution_count": 17,
   "metadata": {},
   "outputs": [
    {
     "data": {
      "text/plain": [
       "<__main__.Client at 0x7f12a8062240>"
      ]
     },
     "execution_count": 17,
     "metadata": {},
     "output_type": "execute_result"
    }
   ],
   "source": [
    "Tono"
   ]
  },
  {
   "cell_type": "code",
   "execution_count": null,
   "metadata": {},
   "outputs": [],
   "source": []
  }
 ],
 "metadata": {
  "kernelspec": {
   "display_name": "Python 3",
   "language": "python",
   "name": "python3"
  },
  "language_info": {
   "codemirror_mode": {
    "name": "ipython",
    "version": 3
   },
   "file_extension": ".py",
   "mimetype": "text/x-python",
   "name": "python",
   "nbconvert_exporter": "python",
   "pygments_lexer": "ipython3",
   "version": "3.5.2"
  }
 },
 "nbformat": 4,
 "nbformat_minor": 2
}
