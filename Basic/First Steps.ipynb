{
 "cells": [
  {
   "cell_type": "markdown",
   "metadata": {},
   "source": [
    "## Header example\n",
    "Try to figure out what this program does (you do not have to give it many laps)."
   ]
  },
  {
   "cell_type": "code",
   "execution_count": 2,
   "metadata": {},
   "outputs": [
    {
     "name": "stdout",
     "output_type": "stream",
     "text": [
      "0 is a pair number\n",
      "1 is not a pair number\n",
      "2 is a pair number\n",
      "3 is not a pair number\n",
      "4 is a pair number\n",
      "5 is not a pair number\n",
      "6 is a pair number\n",
      "7 is not a pair number\n",
      "8 is a pair number\n",
      "9 is not a pair number\n"
     ]
    }
   ],
   "source": [
    "n = 0\n",
    "while n < 10:  # while = mientras\n",
    "    if (n % 2) == 0: # if = yes (the condition is accomplished)\n",
    "        print(n,'is a pair number')\n",
    "    else:  # else = sino (def condicion)\n",
    "        print(n,'is not a pair number')\n",
    "    n = n + 1"
   ]
  },
  {
   "cell_type": "code",
   "execution_count": null,
   "metadata": {
    "collapsed": true
   },
   "outputs": [],
   "source": []
  }
 ],
 "metadata": {
  "kernelspec": {
   "display_name": "Python 3",
   "language": "python",
   "name": "python3"
  },
  "language_info": {
   "codemirror_mode": {
    "name": "ipython",
    "version": 3
   },
   "file_extension": ".py",
   "mimetype": "text/x-python",
   "name": "python",
   "nbconvert_exporter": "python",
   "pygments_lexer": "ipython3",
   "version": "3.6.4"
  }
 },
 "nbformat": 4,
 "nbformat_minor": 1
}
