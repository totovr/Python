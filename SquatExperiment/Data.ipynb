{
 "cells": [
  {
   "cell_type": "markdown",
   "metadata": {},
   "source": [
    "### Evaluation of user squat emotions changes during squat exercise\n",
    "The data of the experiment was measure 30 seconds before and after the execuation of squat exercise during 1 minute of action. "
   ]
  },
  {
   "cell_type": "code",
   "execution_count": 2,
   "metadata": {},
   "outputs": [],
   "source": [
    "import pandas as pd \n",
    "import os\n",
    "import numpy as np\n",
    "import matplotlib.pyplot as plt"
   ]
  },
  {
   "cell_type": "code",
   "execution_count": 3,
   "metadata": {},
   "outputs": [],
   "source": [
    "mainpath = \"/Users/avega/Google Drive/NEDO/DataExperiments/Data_ExperimentSquatVR/\""
   ]
  },
  {
   "cell_type": "markdown",
   "metadata": {},
   "source": [
    "#### Study of user one\n",
    "Before the squat is executed"
   ]
  },
  {
   "cell_type": "code",
   "execution_count": 4,
   "metadata": {},
   "outputs": [],
   "source": [
    "userOneNoSuitBefore = \"Tono/TonoBefore.csv\"\n",
    "# import os has a function to join the strings \n",
    "fullpath = os.path.join(mainpath, userOneNoSuitBefore)\n",
    "# Use the method read_csv() to load the data seat in the variable \n",
    "dataUserOneBeforeNoSuit = pd.read_csv(fullpath)\n",
    "\n",
    "# Change the columns to a list indicating the name of the column\n",
    "gsrUserOneBeforeNoSuit_list = dataUserOneBeforeNoSuit[\"Voltage\"].tolist()\n",
    "bpmUserOneBeforeNoSuit_list = dataUserOneBeforeNoSuit[\"BPM\"].tolist()\n",
    "tempUserOneBeforeNoSuit_list = dataUserOneBeforeNoSuit[\"Temp\"].tolist()\n",
    "# Convert to array\n",
    "gsrUserOneBeforeNoSuit = np.array(gsrUserOneBeforeNoSuit_list)\n",
    "bpmUserOneBeforeNoSuit = np.array(bpmUserOneBeforeNoSuit_list)\n",
    "tempUserOneBeforeNoSuit = np.array(tempUserOneBeforeNoSuit_list)\n",
    "\n",
    "# Calculate the average\n",
    "gsrUserOneBeforeNoSuit_mean = np.mean(gsrUserOneBeforeNoSuit)\n",
    "bpmUserOneBeforeNoSuit_mean = np.mean(bpmUserOneBeforeNoSuit)\n",
    "tempUserOneBeforeNoSuit_mean = np.mean(tempUserOneBeforeNoSuit)\n",
    "\n",
    "# Calculate the standard deviation\n",
    "gsrUserOneBeforeNoSuit_std = np.std(gsrUserOneBeforeNoSuit)\n",
    "bpmUserOneBeforeNoSuit_std = np.std(bpmUserOneBeforeNoSuit)\n",
    "tempUserOneBeforeNoSuit_std = np.std(tempUserOneBeforeNoSuit)"
   ]
  },
  {
   "cell_type": "markdown",
   "metadata": {},
   "source": [
    "After the squat is executed"
   ]
  },
  {
   "cell_type": "code",
   "execution_count": 5,
   "metadata": {
    "scrolled": true
   },
   "outputs": [],
   "source": [
    "userOneNoSuitAfter = \"Tono/TonoAfter.csv\"\n",
    "# import os has a function to join the strings \n",
    "fullpath = os.path.join(mainpath, userOneNoSuitAfter)\n",
    "# Use the method read_csv() to load the data seat in the variable \n",
    "dataUserOneAfterNoSuit = pd.read_csv(fullpath)\n",
    "\n",
    "# Change the columns to a list indicating the name of the column\n",
    "gsrUserOneAfterNoSuit_list = dataUserOneAfterNoSuit[\"Voltage\"].tolist()\n",
    "bpmUserOneAfterNoSuit_list = dataUserOneAfterNoSuit[\"BPM\"].tolist()\n",
    "tempUserOneAfterNoSuit_list = dataUserOneAfterNoSuit[\"Temp\"].tolist()\n",
    "# Convert to array\n",
    "gsrUserOneAfterNoSuit = np.array(gsrUserOneAfterNoSuit_list)\n",
    "bpmUserOneAfterNoSuit = np.array(bpmUserOneAfterNoSuit_list)\n",
    "tempUserOneAfterNoSuit = np.array(tempUserOneAfterNoSuit_list)\n",
    "\n",
    "# Calculate the average\n",
    "gsrUserOneAfterNoSuit_mean = np.mean(gsrUserOneAfterNoSuit)\n",
    "bpmUserOneAfterNoSuit_mean = np.mean(bpmUserOneAfterNoSuit)\n",
    "tempUserOneAfterNoSuit_mean = np.mean(tempUserOneAfterNoSuit)\n",
    "\n",
    "# Calculate the standard deviation\n",
    "gsrUserOneAfterNoSuit_std = np.std(gsrUserOneAfterNoSuit)\n",
    "bpmUserOneAfterNoSuit_std = np.std(bpmUserOneAfterNoSuit)\n",
    "tempUserOneAfterNoSuit_std = np.std(tempUserOneAfterNoSuit)"
   ]
  },
  {
   "cell_type": "markdown",
   "metadata": {},
   "source": [
    "#### Study of user two\n",
    "Before the squat is executed"
   ]
  },
  {
   "cell_type": "code",
   "execution_count": 6,
   "metadata": {},
   "outputs": [],
   "source": [
    "userTwoNoSuitBefore = \"Ramin/RaminBefore.csv\"\n",
    "# import os has a function to join the strings \n",
    "fullpath = os.path.join(mainpath, userTwoNoSuitBefore)\n",
    "# Use the method read_csv() to load the data seat in the variable \n",
    "dataUserTwoBeforeNoSuit = pd.read_csv(fullpath)\n",
    "\n",
    "# Change the columns to a list indicating the name of the column\n",
    "gsrUserTwoBeforeNoSuit_list = dataUserTwoBeforeNoSuit[\"Voltage\"].tolist()\n",
    "bpmUserTwoBeforeNoSuit_list = dataUserTwoBeforeNoSuit[\"BPM\"].tolist()\n",
    "tempUserTwoBeforeNoSuit_list = dataUserTwoBeforeNoSuit[\"Temp\"].tolist()\n",
    "# Convert to array\n",
    "gsrUserTwoBeforeNoSuit = np.array(gsrUserTwoBeforeNoSuit_list)\n",
    "bpmUserTwoBeforeNoSuit = np.array(bpmUserTwoBeforeNoSuit_list)\n",
    "tempUserTwoBeforeNoSuit = np.array(tempUserTwoBeforeNoSuit_list)\n",
    "\n",
    "# Calculate the average\n",
    "gsrUserTwoBeforeNoSuit_mean = np.mean(gsrUserTwoBeforeNoSuit)\n",
    "bpmUserTwoBeforeNoSuit_mean = np.mean(bpmUserTwoBeforeNoSuit)\n",
    "tempUserTwoBeforeNoSuit_mean = np.mean(tempUserTwoBeforeNoSuit)\n",
    "\n",
    "# Calculate the standard deviation\n",
    "gsrUserTwoBeforeNoSuit_std = np.std(gsrUserTwoBeforeNoSuit)\n",
    "bpmUserTwoBeforeNoSuit_std = np.std(bpmUserTwoBeforeNoSuit)\n",
    "tempUserTwoBeforeNoSuit_std = np.std(tempUserTwoBeforeNoSuit)"
   ]
  },
  {
   "cell_type": "markdown",
   "metadata": {},
   "source": [
    "After the squat is executed"
   ]
  },
  {
   "cell_type": "code",
   "execution_count": 7,
   "metadata": {},
   "outputs": [],
   "source": [
    "userTwoNoSuitAfter = \"Ramin/RaminAfter.csv\"\n",
    "# import os has a function to join the strings \n",
    "fullpath = os.path.join(mainpath, userTwoNoSuitAfter)\n",
    "# Use the method read_csv() to load the data seat in the variable \n",
    "dataUserTwoAfterNoSuit = pd.read_csv(fullpath)\n",
    "\n",
    "# Change the columns to a list indicating the name of the column\n",
    "gsrUserTwoAfterNoSuit_list = dataUserTwoAfterNoSuit[\"Voltage\"].tolist()\n",
    "bpmUserTwoAfterNoSuit_list = dataUserTwoAfterNoSuit[\"BPM\"].tolist()\n",
    "tempUserTwoAfterNoSuit_list = dataUserTwoAfterNoSuit[\"Temp\"].tolist()\n",
    "# Convert to array\n",
    "gsrUserTwoAfterNoSuit = np.array(gsrUserTwoAfterNoSuit_list)\n",
    "bpmUserTwoAfterNoSuit = np.array(bpmUserTwoAfterNoSuit_list)\n",
    "tempUserTwoAfterNoSuit = np.array(tempUserTwoAfterNoSuit_list)\n",
    "\n",
    "# Calculate the average\n",
    "gsrUserTwoAfterNoSuit_mean = np.mean(gsrUserTwoAfterNoSuit)\n",
    "bpmUserTwoAfterNoSuit_mean = np.mean(bpmUserTwoAfterNoSuit)\n",
    "tempUserTwoAfterNoSuit_mean = np.mean(tempUserTwoAfterNoSuit)\n",
    "\n",
    "# Calculate the standard deviation\n",
    "gsrUserTwoAfterNoSuit_std = np.std(gsrUserTwoAfterNoSuit)\n",
    "bpmUserTwoAfterNoSuit_std = np.std(bpmUserTwoAfterNoSuit)\n",
    "tempUserTwoAfterNoSuit_std = np.std(tempUserTwoAfterNoSuit)"
   ]
  },
  {
   "cell_type": "markdown",
   "metadata": {},
   "source": [
    "### Study of user three\n",
    "Before the squat is executed"
   ]
  },
  {
   "cell_type": "code",
   "execution_count": 8,
   "metadata": {},
   "outputs": [],
   "source": [
    "userThreeNoSuitBefore = \"Kishishita/KishishitaBefore.csv\"\n",
    "# import os has a function to join the strings \n",
    "fullpath = os.path.join(mainpath, userThreeNoSuitBefore)\n",
    "# Use the method read_csv() to load the data seat in the variable \n",
    "dataUserThreeBeforeNoSuit = pd.read_csv(fullpath)\n",
    "\n",
    "# Change the columns to a list indicating the name of the column\n",
    "gsrUserThreeBeforeNoSuit_list = dataUserThreeBeforeNoSuit[\"Voltage\"].tolist()\n",
    "bpmUserThreeBeforeNoSuit_list = dataUserThreeBeforeNoSuit[\"BPM\"].tolist()\n",
    "tempUserThreeBeforeNoSuit_list = dataUserThreeBeforeNoSuit[\"Temp\"].tolist()\n",
    "# Convert to array\n",
    "gsrUserThreeBeforeNoSuit = np.array(gsrUserThreeBeforeNoSuit_list)\n",
    "bpmUserThreeBeforeNoSuit = np.array(bpmUserThreeBeforeNoSuit_list)\n",
    "tempUserThreeBeforeNoSuit = np.array(tempUserThreeBeforeNoSuit_list)\n",
    "\n",
    "# Calculate the average\n",
    "gsrUserThreeBeforeNoSuit_mean = np.mean(gsrUserThreeBeforeNoSuit)\n",
    "bpmUserThreeBeforeNoSuit_mean = np.mean(bpmUserThreeBeforeNoSuit)\n",
    "tempUserThreeBeforeNoSuit_mean = np.mean(tempUserThreeBeforeNoSuit)\n",
    "\n",
    "# Calculate the standard deviation\n",
    "gsrUserThreeBeforeNoSuit_std = np.std(gsrUserThreeBeforeNoSuit)\n",
    "bpmUserThreeBeforeNoSuit_std = np.std(bpmUserThreeBeforeNoSuit)\n",
    "tempUserThreeBeforeNoSuit_std = np.std(tempUserThreeBeforeNoSuit)"
   ]
  },
  {
   "cell_type": "markdown",
   "metadata": {},
   "source": [
    "After the squat is executed"
   ]
  },
  {
   "cell_type": "code",
   "execution_count": 9,
   "metadata": {},
   "outputs": [],
   "source": [
    "userThreeNoSuitAfter = \"Kishishita/KishishitaAfter.csv\"\n",
    "# import os has a function to join the strings \n",
    "fullpath = os.path.join(mainpath, userThreeNoSuitAfter)\n",
    "# Use the method read_csv() to load the data seat in the variable \n",
    "dataUserThreeAfterNoSuit = pd.read_csv(fullpath)\n",
    "\n",
    "# Change the columns to a list indicating the name of the column\n",
    "gsrUserThreeAfterNoSuit_list = dataUserThreeAfterNoSuit[\"Voltage\"].tolist()\n",
    "bpmUserThreeAfterNoSuit_list = dataUserThreeAfterNoSuit[\"BPM\"].tolist()\n",
    "tempUserThreeAfterNoSuit_list = dataUserThreeAfterNoSuit[\"Temp\"].tolist()\n",
    "# Convert to array\n",
    "gsrUserThreeAfterNoSuit = np.array(gsrUserThreeAfterNoSuit_list)\n",
    "bpmUserThreeAfterNoSuit = np.array(bpmUserThreeAfterNoSuit_list)\n",
    "tempUserThreeAfterNoSuit = np.array(tempUserThreeAfterNoSuit_list)\n",
    "\n",
    "# Calculate the average\n",
    "gsrUserThreeAfterNoSuit_mean = np.mean(gsrUserThreeAfterNoSuit)\n",
    "bpmUserThreeAfterNoSuit_mean = np.mean(bpmUserThreeAfterNoSuit)\n",
    "tempUserThreeAfterNoSuit_mean = np.mean(tempUserThreeAfterNoSuit)\n",
    "\n",
    "# Calculate the standard deviation\n",
    "gsrUserThreeAfterNoSuit_std = np.std(gsrUserThreeAfterNoSuit)\n",
    "bpmUserThreeAfterNoSuit_std = np.std(bpmUserThreeAfterNoSuit)\n",
    "tempUserThreeAfterNoSuit_std = np.std(tempUserThreeAfterNoSuit)"
   ]
  },
  {
   "cell_type": "markdown",
   "metadata": {},
   "source": [
    "### Raw data visualization for GSR sensor "
   ]
  },
  {
   "cell_type": "code",
   "execution_count": 10,
   "metadata": {},
   "outputs": [
    {
     "data": {
      "image/png": "[encoded data removed]",
      "text/plain": [
       "<Figure size 432x288 with 1 Axes>"
      ]
     },
     "metadata": {
      "needs_background": "light"
     },
     "output_type": "display_data"
    }
   ],
   "source": [
    "plt.plot(gsrUserOneBeforeNoSuit, label='User one before')\n",
    "plt.plot(gsrUserOneAfterNoSuit, label='User one after')\n",
    "plt.plot(gsrUserTwoBeforeNoSuit, label='User two before')\n",
    "plt.plot(gsrUserTwoAfterNoSuit, label='User two after')\n",
    "plt.plot(gsrUserThreeBeforeNoSuit, label='User three before')\n",
    "plt.plot(gsrUserThreeAfterNoSuit, label='User three after')\n",
    "plt.xlabel('Variation of user voltage during 30 seconds')\n",
    "plt.ylabel('GSR sensor voltage readings')\n",
    "plt.legend(bbox_to_anchor=(0., 1.02, 1., .102), loc=3,\n",
    "           ncol=2, mode=\"expand\", borderaxespad=0.)\n",
    "plt.show()"
   ]
  },
  {
   "cell_type": "markdown",
   "metadata": {},
   "source": [
    "### Graph of variation in users voltage before and after squat motion "
   ]
  },
  {
   "cell_type": "code",
   "execution_count": 11,
   "metadata": {},
   "outputs": [
    {
     "data": {
      "image/png": "[encoded data removed]",
      "text/plain": [
       "<Figure size 432x288 with 1 Axes>"
      ]
     },
     "metadata": {
      "needs_background": "light"
     },
     "output_type": "display_data"
    }
   ],
   "source": [
    "# Create lists for the plot\n",
    "Conditions = ['User One', 'User Two', 'User Three']\n",
    "\n",
    "gsrBefore_mean = [gsrUserOneBeforeNoSuit_mean, gsrUserTwoBeforeNoSuit_mean, gsrUserThreeBeforeNoSuit_mean]\n",
    "gsrBefore_std = [gsrUserOneBeforeNoSuit_std, gsrUserTwoBeforeNoSuit_std, gsrUserThreeBeforeNoSuit_std]\n",
    "gsrAfter_mean = [gsrUserOneAfterNoSuit_mean, gsrUserTwoAfterNoSuit_mean, gsrUserThreeAfterNoSuit_mean]\n",
    "gsrAfter_std = [gsrUserOneAfterNoSuit_std, gsrUserTwoAfterNoSuit_std, gsrUserThreeAfterNoSuit_std]\n",
    "\n",
    "fig, ax = plt.subplots()\n",
    "\n",
    "ind = np.arange(len(Conditions))    # the x locations for the groups\n",
    "width = 0.35         # the width of the bars\n",
    "\n",
    "p1 = ax.bar(ind, gsrBefore_mean, width, color='r', yerr=gsrBefore_std,\n",
    "            alpha=0.5, ecolor='black', capsize=10, label='Before squat exercise')\n",
    "\n",
    "p2 = ax.bar(ind + width, gsrAfter_mean, width, color='y', yerr=gsrAfter_std,\n",
    "            alpha=0.5, ecolor='black', capsize=10, label='After squat exercise')\n",
    "\n",
    "# ax.set_title('Study of gsr voltage in users')\n",
    "ax.set_xticks(ind + width / 2)\n",
    "ax.set_xticklabels(Conditions)\n",
    "plt.xlabel('Variation of user voltage during 30 seconds')\n",
    "# ax.legend((p1[0], p2[0]), ('Before', 'After'))\n",
    "ax.set_ylabel('gsr Voltage')\n",
    "ax.autoscale_view()\n",
    "\n",
    "plt.legend(bbox_to_anchor=(0., 1.02, 1., .102), loc=3, ncol=2, mode=\"expand\", borderaxespad=0.)\n",
    "plt.setp(ax.get_xticklabels(), rotation=30, horizontalalignment='right')\n",
    "plt.tight_layout()\n",
    "plt.show()"
   ]
  },
  {
   "cell_type": "markdown",
   "metadata": {},
   "source": [
    "### Description of the study "
   ]
  },
  {
   "cell_type": "code",
   "execution_count": 12,
   "metadata": {},
   "outputs": [
    {
     "name": "stdout",
     "output_type": "stream",
     "text": [
      "count    35.000000\n",
      "mean      3.080571\n",
      "std       0.019844\n",
      "min       3.040000\n",
      "25%       3.065000\n",
      "50%       3.080000\n",
      "75%       3.100000\n",
      "max       3.120000\n",
      "Name: Voltage, dtype: float64\n",
      "\n",
      "\n",
      "count    18.000000\n",
      "mean      2.971111\n",
      "std       0.021390\n",
      "min       2.910000\n",
      "25%       2.962500\n",
      "50%       2.980000\n",
      "75%       2.980000\n",
      "max       2.990000\n",
      "Name: Voltage, dtype: float64\n",
      "\n",
      "\n",
      "count    14.000000\n",
      "mean      2.247143\n",
      "std       0.023996\n",
      "min       2.180000\n",
      "25%       2.240000\n",
      "50%       2.250000\n",
      "75%       2.260000\n",
      "max       2.280000\n",
      "Name: Voltage, dtype: float64\n",
      "\n",
      "\n",
      "count    23.000000\n",
      "mean      1.164783\n",
      "std       0.015917\n",
      "min       1.140000\n",
      "25%       1.155000\n",
      "50%       1.170000\n",
      "75%       1.170000\n",
      "max       1.200000\n",
      "Name: Voltage, dtype: float64\n",
      "\n",
      "\n",
      "count    13.000000\n",
      "mean      3.025385\n",
      "std       0.027873\n",
      "min       2.980000\n",
      "25%       3.000000\n",
      "50%       3.030000\n",
      "75%       3.050000\n",
      "max       3.060000\n",
      "Name: Voltage, dtype: float64\n",
      "\n",
      "\n",
      "count    23.000000\n",
      "mean      2.628696\n",
      "std       0.014240\n",
      "min       2.590000\n",
      "25%       2.620000\n",
      "50%       2.630000\n",
      "75%       2.640000\n",
      "max       2.650000\n",
      "Name: Voltage, dtype: float64\n"
     ]
    }
   ],
   "source": [
    "print(dataUserOneBeforeNoSuit[\"Voltage\"].describe())\n",
    "print(\"\\n\")\n",
    "print(dataUserOneAfterNoSuit[\"Voltage\"].describe())\n",
    "print(\"\\n\")\n",
    "print(dataUserTwoBeforeNoSuit[\"Voltage\"].describe())\n",
    "print(\"\\n\")\n",
    "print(dataUserTwoAfterNoSuit[\"Voltage\"].describe())\n",
    "print(\"\\n\")\n",
    "print(dataUserThreeBeforeNoSuit[\"Voltage\"].describe())\n",
    "print(\"\\n\")\n",
    "print(dataUserThreeAfterNoSuit[\"Voltage\"].describe())"
   ]
  },
  {
   "cell_type": "markdown",
   "metadata": {},
   "source": [
    "### Raw data visualization for heart sensor "
   ]
  },
  {
   "cell_type": "code",
   "execution_count": 13,
   "metadata": {},
   "outputs": [
    {
     "data": {
      "image/png": "[encoded data removed]",
      "text/plain": [
       "<Figure size 432x288 with 1 Axes>"
      ]
     },
     "metadata": {
      "needs_background": "light"
     },
     "output_type": "display_data"
    }
   ],
   "source": [
    "plt.plot(bpmUserOneBeforeNoSuit, label='User one before')\n",
    "plt.plot(bpmUserOneAfterNoSuit, label='User one after')\n",
    "plt.plot(bpmUserTwoBeforeNoSuit, label='User two before')\n",
    "plt.plot(bpmUserTwoAfterNoSuit, label='User two after')\n",
    "plt.plot(bpmUserThreeBeforeNoSuit, label='User three before')\n",
    "plt.plot(bpmUserThreeAfterNoSuit, label='User three after')\n",
    "plt.xlabel('Variation of BPM in 30 seconds')\n",
    "plt.ylabel('Beats per minute')\n",
    "plt.legend(bbox_to_anchor=(0., 1.02, 1., .102), loc=3,\n",
    "           ncol=2, mode=\"expand\", borderaxespad=0.)\n",
    "plt.show()"
   ]
  },
  {
   "cell_type": "markdown",
   "metadata": {},
   "source": [
    "### Graph of variation in BPM of users before and after squat motion "
   ]
  },
  {
   "cell_type": "code",
   "execution_count": 14,
   "metadata": {},
   "outputs": [
    {
     "data": {
      "image/png": "[encoded data removed]",
      "text/plain": [
       "<Figure size 432x288 with 1 Axes>"
      ]
     },
     "metadata": {
      "needs_background": "light"
     },
     "output_type": "display_data"
    }
   ],
   "source": [
    "# Create lists for the plot\n",
    "Conditions = ['User One', 'User Two', 'User Three']\n",
    "\n",
    "bpmBefore_mean = [bpmUserOneBeforeNoSuit_mean, bpmUserTwoBeforeNoSuit_mean, bpmUserThreeBeforeNoSuit_mean]\n",
    "bpmBefore_std = [bpmUserOneBeforeNoSuit_std, bpmUserTwoBeforeNoSuit_std, bpmUserThreeBeforeNoSuit_std]\n",
    "bpmAfter_mean = [bpmUserOneAfterNoSuit_mean, bpmUserTwoAfterNoSuit_mean, bpmUserThreeAfterNoSuit_mean]\n",
    "bpmAfter_std = [bpmUserOneAfterNoSuit_std, bpmUserTwoAfterNoSuit_std, bpmUserThreeAfterNoSuit_std]\n",
    "\n",
    "fig, ax = plt.subplots()\n",
    "\n",
    "ind = np.arange(len(Conditions))    # the x locations for the groups\n",
    "width = 0.35         # the width of the bars\n",
    "\n",
    "p1 = ax.bar(ind, bpmBefore_mean, width, color='r', yerr=bpmBefore_std,\n",
    "            alpha=0.5, ecolor='black', capsize=10, label='Before squat exercise')\n",
    "\n",
    "p2 = ax.bar(ind + width, bpmAfter_mean, width, color='y', yerr=bpmAfter_std,\n",
    "            alpha=0.5, ecolor='black', capsize=10, label='After squat exercise')\n",
    "\n",
    "# ax.set_title('Study of gsr voltage in users')\n",
    "ax.set_xticks(ind + width / 2)\n",
    "ax.set_xticklabels(Conditions)\n",
    "plt.xlabel('Variation of user BPM during 30 seconds')\n",
    "# ax.legend((p1[0], p2[0]), ('Before', 'After'))\n",
    "ax.set_ylabel('Beats per minute')\n",
    "ax.autoscale_view()\n",
    "\n",
    "plt.legend(bbox_to_anchor=(0., 1.02, 1., .102), loc=3, ncol=2, mode=\"expand\", borderaxespad=0.)\n",
    "plt.setp(ax.get_xticklabels(), rotation=30, horizontalalignment='right')\n",
    "plt.tight_layout()\n",
    "plt.show()"
   ]
  },
  {
   "cell_type": "markdown",
   "metadata": {},
   "source": [
    "### Description of the study "
   ]
  },
  {
   "cell_type": "code",
   "execution_count": 15,
   "metadata": {},
   "outputs": [
    {
     "name": "stdout",
     "output_type": "stream",
     "text": [
      "count    35.000000\n",
      "mean     72.171429\n",
      "std       6.478406\n",
      "min      62.000000\n",
      "25%      68.000000\n",
      "50%      71.000000\n",
      "75%      76.500000\n",
      "max      85.000000\n",
      "Name: BPM, dtype: float64\n",
      "\n",
      "\n",
      "count    18.000000\n",
      "mean     71.888889\n",
      "std      10.098858\n",
      "min      59.000000\n",
      "25%      64.500000\n",
      "50%      68.500000\n",
      "75%      81.250000\n",
      "max      89.000000\n",
      "Name: BPM, dtype: float64\n",
      "\n",
      "\n",
      "count    14.000000\n",
      "mean     70.857143\n",
      "std       1.231456\n",
      "min      69.000000\n",
      "25%      70.250000\n",
      "50%      71.000000\n",
      "75%      71.750000\n",
      "max      73.000000\n",
      "Name: BPM, dtype: float64\n",
      "\n",
      "\n",
      "count     23.000000\n",
      "mean     102.608696\n",
      "std        4.469484\n",
      "min       95.000000\n",
      "25%      100.000000\n",
      "50%      102.000000\n",
      "75%      105.500000\n",
      "max      111.000000\n",
      "Name: BPM, dtype: float64\n",
      "\n",
      "\n",
      "count    13.000000\n",
      "mean     64.846154\n",
      "std       2.995723\n",
      "min      59.000000\n",
      "25%      63.000000\n",
      "50%      64.000000\n",
      "75%      66.000000\n",
      "max      70.000000\n",
      "Name: BPM, dtype: float64\n",
      "\n",
      "\n",
      "count     23.000000\n",
      "mean      91.130435\n",
      "std        6.594104\n",
      "min       81.000000\n",
      "25%       86.000000\n",
      "50%       91.000000\n",
      "75%       97.000000\n",
      "max      101.000000\n",
      "Name: BPM, dtype: float64\n"
     ]
    }
   ],
   "source": [
    "print(dataUserOneBeforeNoSuit[\"BPM\"].describe())\n",
    "print(\"\\n\")\n",
    "print(dataUserOneAfterNoSuit[\"BPM\"].describe())\n",
    "print(\"\\n\")\n",
    "print(dataUserTwoBeforeNoSuit[\"BPM\"].describe())\n",
    "print(\"\\n\")\n",
    "print(dataUserTwoAfterNoSuit[\"BPM\"].describe())\n",
    "print(\"\\n\")\n",
    "print(dataUserThreeBeforeNoSuit[\"BPM\"].describe())\n",
    "print(\"\\n\")\n",
    "print(dataUserThreeAfterNoSuit[\"BPM\"].describe())"
   ]
  },
  {
   "cell_type": "markdown",
   "metadata": {},
   "source": [
    "### Raw data visualization for temperature sensor"
   ]
  },
  {
   "cell_type": "code",
   "execution_count": 16,
   "metadata": {},
   "outputs": [
    {
     "data": {
      "image/png": "[encoded data removed]",
      "text/plain": [
       "<Figure size 432x288 with 1 Axes>"
      ]
     },
     "metadata": {
      "needs_background": "light"
     },
     "output_type": "display_data"
    }
   ],
   "source": [
    "plt.plot(tempUserOneBeforeNoSuit, label='User one before')\n",
    "plt.plot(tempUserOneAfterNoSuit, label='User one after')\n",
    "plt.plot(tempUserTwoBeforeNoSuit, label='User two before')\n",
    "plt.plot(tempUserTwoAfterNoSuit, label='User two after')\n",
    "plt.plot(tempUserThreeBeforeNoSuit, label='User three before')\n",
    "plt.plot(tempUserThreeAfterNoSuit, label='User three after')\n",
    "plt.xlabel('Variation of temperature in 30 seconds')\n",
    "plt.ylabel('Temperature in celcius')\n",
    "plt.legend(bbox_to_anchor=(0., 1.02, 1., .102), loc=3,\n",
    "           ncol=2, mode=\"expand\", borderaxespad=0.)\n",
    "plt.show()"
   ]
  },
  {
   "cell_type": "markdown",
   "metadata": {},
   "source": [
    "### Graph of variation in temperature of users before and after squat motion"
   ]
  },
  {
   "cell_type": "code",
   "execution_count": 17,
   "metadata": {},
   "outputs": [
    {
     "data": {
      "image/png": "[encoded data removed]",
      "text/plain": [
       "<Figure size 432x288 with 1 Axes>"
      ]
     },
     "metadata": {
      "needs_background": "light"
     },
     "output_type": "display_data"
    }
   ],
   "source": [
    "# Create lists for the plot\n",
    "Conditions = ['User One', 'User Two', 'User Three']\n",
    "\n",
    "tempBefore_mean = [tempUserOneBeforeNoSuit_mean, tempUserTwoBeforeNoSuit_mean, tempUserThreeBeforeNoSuit_mean]\n",
    "tempBefore_std = [tempUserOneBeforeNoSuit_std, tempUserTwoBeforeNoSuit_std, tempUserThreeBeforeNoSuit_std]\n",
    "tempAfter_mean = [tempUserOneAfterNoSuit_mean, tempUserTwoAfterNoSuit_mean, tempUserThreeAfterNoSuit_mean]\n",
    "tempAfter_std = [tempUserOneAfterNoSuit_std, tempUserTwoAfterNoSuit_std, tempUserThreeAfterNoSuit_std]\n",
    "\n",
    "fig, ax = plt.subplots()\n",
    "\n",
    "ind = np.arange(len(Conditions))    # the x locations for the groups\n",
    "width = 0.35         # the width of the bars\n",
    "\n",
    "p1 = ax.bar(ind, tempBefore_mean, width, color='r', yerr=tempBefore_std,\n",
    "            alpha=0.5, ecolor='black', capsize=10, label='Before squat exercise')\n",
    "\n",
    "p2 = ax.bar(ind + width, tempAfter_mean, width, color='y', yerr=tempAfter_std,\n",
    "            alpha=0.5, ecolor='black', capsize=10, label='After squat exercise')\n",
    "\n",
    "# ax.set_title('Study of gsr voltage in users')\n",
    "ax.set_xticks(ind + width / 2)\n",
    "ax.set_xticklabels(Conditions)\n",
    "plt.xlabel('Variation of user temperature during 30 seconds')\n",
    "# ax.legend((p1[0], p2[0]), ('Before', 'After'))\n",
    "ax.set_ylabel('Temperature in celcius')\n",
    "ax.autoscale_view()\n",
    "\n",
    "plt.legend(bbox_to_anchor=(0., 1.02, 1., .102), loc=3, ncol=2, mode=\"expand\", borderaxespad=0.)\n",
    "plt.setp(ax.get_xticklabels(), rotation=30, horizontalalignment='right')\n",
    "plt.tight_layout()\n",
    "plt.show()"
   ]
  },
  {
   "cell_type": "markdown",
   "metadata": {},
   "source": [
    "### Description of the study "
   ]
  },
  {
   "cell_type": "code",
   "execution_count": 18,
   "metadata": {},
   "outputs": [
    {
     "name": "stdout",
     "output_type": "stream",
     "text": [
      "count    35.000000\n",
      "mean     32.613429\n",
      "std       0.185646\n",
      "min      32.310000\n",
      "25%      32.470000\n",
      "50%      32.630000\n",
      "75%      32.750000\n",
      "max      32.940000\n",
      "Name: Temp, dtype: float64\n",
      "\n",
      "\n",
      "count    18.000000\n",
      "mean     29.494444\n",
      "std       0.321599\n",
      "min      29.120000\n",
      "25%      29.310000\n",
      "50%      29.370000\n",
      "75%      29.735000\n",
      "max      30.310000\n",
      "Name: Temp, dtype: float64\n",
      "\n",
      "\n",
      "count    14.000000\n",
      "mean     30.990000\n",
      "std       0.132549\n",
      "min      30.750000\n",
      "25%      30.887500\n",
      "50%      31.000000\n",
      "75%      31.060000\n",
      "max      31.190000\n",
      "Name: Temp, dtype: float64\n",
      "\n",
      "\n",
      "count    23.000000\n",
      "mean     31.097391\n",
      "std       0.132946\n",
      "min      30.810000\n",
      "25%      31.000000\n",
      "50%      31.060000\n",
      "75%      31.220000\n",
      "max      31.310000\n",
      "Name: Temp, dtype: float64\n",
      "\n",
      "\n",
      "count    13.000000\n",
      "mean     27.441538\n",
      "std       0.055953\n",
      "min      27.370000\n",
      "25%      27.370000\n",
      "50%      27.440000\n",
      "75%      27.500000\n",
      "max      27.500000\n",
      "Name: Temp, dtype: float64\n",
      "\n",
      "\n",
      "count    23.000000\n",
      "mean     28.576957\n",
      "std       0.090726\n",
      "min      28.370000\n",
      "25%      28.500000\n",
      "50%      28.620000\n",
      "75%      28.620000\n",
      "max      28.750000\n",
      "Name: Temp, dtype: float64\n"
     ]
    }
   ],
   "source": [
    "print(dataUserOneBeforeNoSuit[\"Temp\"].describe())\n",
    "print(\"\\n\")\n",
    "print(dataUserOneAfterNoSuit[\"Temp\"].describe())\n",
    "print(\"\\n\")\n",
    "print(dataUserTwoBeforeNoSuit[\"Temp\"].describe())\n",
    "print(\"\\n\")\n",
    "print(dataUserTwoAfterNoSuit[\"Temp\"].describe())\n",
    "print(\"\\n\")\n",
    "print(dataUserThreeBeforeNoSuit[\"Temp\"].describe())\n",
    "print(\"\\n\")\n",
    "print(dataUserThreeAfterNoSuit[\"Temp\"].describe())"
   ]
  },
  {
   "cell_type": "code",
   "execution_count": null,
   "metadata": {},
   "outputs": [],
   "source": []
  }
 ],
 "metadata": {
  "kernelspec": {
   "display_name": "Python 3",
   "language": "python",
   "name": "python3"
  },
  "language_info": {
   "codemirror_mode": {
    "name": "ipython",
    "version": 3
   },
   "file_extension": ".py",
   "mimetype": "text/x-python",
   "name": "python",
   "nbconvert_exporter": "python",
   "pygments_lexer": "ipython3",
   "version": "3.7.1"
  }
 },
 "nbformat": 4,
 "nbformat_minor": 2
}
