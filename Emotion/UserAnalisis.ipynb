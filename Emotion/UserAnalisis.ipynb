{
 "cells": [
  {
   "cell_type": "code",
   "execution_count": 176,
   "metadata": {
    "scrolled": true
   },
   "outputs": [],
   "source": [
    "import pandas as pd \n",
    "import os\n",
    "import numpy as np\n",
    "import matplotlib.pyplot as plt"
   ]
  },
  {
   "cell_type": "markdown",
   "metadata": {},
   "source": [
    "### Study with suit but not actuated"
   ]
  },
  {
   "cell_type": "code",
   "execution_count": 177,
   "metadata": {},
   "outputs": [
    {
     "data": {
      "text/html": [
       "<div>\n",
       "<style scoped>\n",
       "    .dataframe tbody tr th:only-of-type {\n",
       "        vertical-align: middle;\n",
       "    }\n",
       "\n",
       "    .dataframe tbody tr th {\n",
       "        vertical-align: top;\n",
       "    }\n",
       "\n",
       "    .dataframe thead th {\n",
       "        text-align: right;\n",
       "    }\n",
       "</style>\n",
       "<table border=\"1\" class=\"dataframe\">\n",
       "  <thead>\n",
       "    <tr style=\"text-align: right;\">\n",
       "      <th></th>\n",
       "      <th>BPM</th>\n",
       "      <th>GSR</th>\n",
       "      <th>Temp</th>\n",
       "      <th>Cal</th>\n",
       "      <th>Voltage</th>\n",
       "    </tr>\n",
       "  </thead>\n",
       "  <tbody>\n",
       "    <tr>\n",
       "      <th>0</th>\n",
       "      <td>98</td>\n",
       "      <td>1057894</td>\n",
       "      <td>28.31</td>\n",
       "      <td>0</td>\n",
       "      <td>1.590323</td>\n",
       "    </tr>\n",
       "    <tr>\n",
       "      <th>1</th>\n",
       "      <td>90</td>\n",
       "      <td>711428</td>\n",
       "      <td>28.31</td>\n",
       "      <td>0</td>\n",
       "      <td>1.561290</td>\n",
       "    </tr>\n",
       "    <tr>\n",
       "      <th>2</th>\n",
       "      <td>90</td>\n",
       "      <td>711428</td>\n",
       "      <td>28.25</td>\n",
       "      <td>0</td>\n",
       "      <td>1.674194</td>\n",
       "    </tr>\n",
       "    <tr>\n",
       "      <th>3</th>\n",
       "      <td>77</td>\n",
       "      <td>833333</td>\n",
       "      <td>28.19</td>\n",
       "      <td>0</td>\n",
       "      <td>1.574194</td>\n",
       "    </tr>\n",
       "    <tr>\n",
       "      <th>4</th>\n",
       "      <td>83</td>\n",
       "      <td>711428</td>\n",
       "      <td>28.12</td>\n",
       "      <td>0</td>\n",
       "      <td>1.561290</td>\n",
       "    </tr>\n",
       "  </tbody>\n",
       "</table>\n",
       "</div>"
      ],
      "text/plain": [
       "   BPM      GSR   Temp  Cal   Voltage\n",
       "0   98  1057894  28.31    0  1.590323\n",
       "1   90   711428  28.31    0  1.561290\n",
       "2   90   711428  28.25    0  1.674194\n",
       "3   77   833333  28.19    0  1.574194\n",
       "4   83   711428  28.12    0  1.561290"
      ]
     },
     "execution_count": 177,
     "metadata": {},
     "output_type": "execute_result"
    }
   ],
   "source": [
    "mainpath = \"/Users/avega/Google Drive/HMG/VR_Osaka/SubjectAnalisis/\"\n",
    "FuruiAfterNoSuit = \"FuruiNoSuit/FuruiAfter.csv\"\n",
    "# import os has a function to join the strings \n",
    "fullpath = os.path.join(mainpath, FuruiAfterNoSuit)\n",
    "# Use the method read_csv() to load the data seat in the variable \n",
    "dataFuruiAfterNoSuit = pd.read_csv(fullpath)\n",
    "dataFuruiAfterNoSuit.head()"
   ]
  },
  {
   "cell_type": "code",
   "execution_count": 178,
   "metadata": {},
   "outputs": [],
   "source": [
    "# Change the columns to a list indicating the name of the column\n",
    "bpmFuruiAfterNoSuit_list = dataFuruiAfterNoSuit[\"BPM\"].tolist()\n",
    "gsrVoltageFuruiAfterNoSuit_list = dataFuruiAfterNoSuit[\"Voltage\"].tolist()\n",
    "tempFuruiAfterNoSuit_list = dataFuruiAfterNoSuit[\"Temp\"].tolist()\n",
    "\n",
    "# Convert to array\n",
    "bpmFuruiAfterNoSuit = np.array(bpmFuruiAfterNoSuit_list)\n",
    "gsrVoltageFuruiAfterNoSuit = np.array(gsrVoltageFuruiAfterNoSuit_list)\n",
    "tempFuruiAfterNoSuit = np.array(tempFuruiAfterNoSuit_list)\n",
    "\n",
    "# Calculate the average\n",
    "bpmAverageFuruiAfterNoSuit = np.mean(bpmFuruiAfterNoSuit)\n",
    "gsrAverageVoltageFuruiAfterNoSuit = np.mean(gsrVoltageFuruiAfterNoSuit)\n",
    "tempAverageFuruiAfterNoSuit = np.mean(tempFuruiAfterNoSuit)\n",
    "\n",
    "# Calculate the standard deviation\n",
    "bpmFuruiAfterNoSuit_std = np.std(bpmFuruiAfterNoSuit)\n",
    "gsrVoltageFuruiAfterNoSuit_std = np.std(gsrVoltageFuruiAfterNoSuit)\n",
    "tempFuruiAfterNoSuit_std = np.std(tempFuruiAfterNoSuit)"
   ]
  },
  {
   "cell_type": "markdown",
   "metadata": {},
   "source": [
    "These are the statistics with the suit not activated before playing"
   ]
  },
  {
   "cell_type": "code",
   "execution_count": 179,
   "metadata": {},
   "outputs": [
    {
     "data": {
      "text/html": [
       "<div>\n",
       "<style scoped>\n",
       "    .dataframe tbody tr th:only-of-type {\n",
       "        vertical-align: middle;\n",
       "    }\n",
       "\n",
       "    .dataframe tbody tr th {\n",
       "        vertical-align: top;\n",
       "    }\n",
       "\n",
       "    .dataframe thead th {\n",
       "        text-align: right;\n",
       "    }\n",
       "</style>\n",
       "<table border=\"1\" class=\"dataframe\">\n",
       "  <thead>\n",
       "    <tr style=\"text-align: right;\">\n",
       "      <th></th>\n",
       "      <th>BPM</th>\n",
       "      <th>GSR</th>\n",
       "      <th>Temp</th>\n",
       "      <th>Cal</th>\n",
       "      <th>Voltage</th>\n",
       "    </tr>\n",
       "  </thead>\n",
       "  <tbody>\n",
       "    <tr>\n",
       "      <th>0</th>\n",
       "      <td>68</td>\n",
       "      <td>-5140000</td>\n",
       "      <td>29.75</td>\n",
       "      <td>0</td>\n",
       "      <td>1.664516</td>\n",
       "    </tr>\n",
       "    <tr>\n",
       "      <th>1</th>\n",
       "      <td>68</td>\n",
       "      <td>-2580000</td>\n",
       "      <td>29.69</td>\n",
       "      <td>0</td>\n",
       "      <td>1.677419</td>\n",
       "    </tr>\n",
       "    <tr>\n",
       "      <th>2</th>\n",
       "      <td>72</td>\n",
       "      <td>-3433333</td>\n",
       "      <td>29.69</td>\n",
       "      <td>0</td>\n",
       "      <td>1.670968</td>\n",
       "    </tr>\n",
       "    <tr>\n",
       "      <th>3</th>\n",
       "      <td>77</td>\n",
       "      <td>-2580000</td>\n",
       "      <td>29.69</td>\n",
       "      <td>0</td>\n",
       "      <td>1.677419</td>\n",
       "    </tr>\n",
       "    <tr>\n",
       "      <th>4</th>\n",
       "      <td>68</td>\n",
       "      <td>-1300000</td>\n",
       "      <td>29.62</td>\n",
       "      <td>0</td>\n",
       "      <td>1.703226</td>\n",
       "    </tr>\n",
       "  </tbody>\n",
       "</table>\n",
       "</div>"
      ],
      "text/plain": [
       "   BPM      GSR   Temp  Cal   Voltage\n",
       "0   68 -5140000  29.75    0  1.664516\n",
       "1   68 -2580000  29.69    0  1.677419\n",
       "2   72 -3433333  29.69    0  1.670968\n",
       "3   77 -2580000  29.69    0  1.677419\n",
       "4   68 -1300000  29.62    0  1.703226"
      ]
     },
     "execution_count": 179,
     "metadata": {},
     "output_type": "execute_result"
    }
   ],
   "source": [
    "# Use the method read_csv() to load the data seat in the variable \n",
    "FuruiBeforeNoSuit = \"FuruiNoSuit/FuruiBefore.csv\"\n",
    "# import os has a function to join the strings \n",
    "fullpath = os.path.join(mainpath, FuruiBeforeNoSuit)\n",
    "# Use the method read_csv() to load the data seat in the variable \n",
    "dataFuruiBeforeNoSuit = pd.read_csv(fullpath)\n",
    "dataFuruiBeforeNoSuit.head()"
   ]
  },
  {
   "cell_type": "code",
   "execution_count": 180,
   "metadata": {},
   "outputs": [],
   "source": [
    "# Change the columns to a list indicating the name of the column\n",
    "bpmFuruiBeforeNoSuit_list = dataFuruiBeforeNoSuit[\"BPM\"].tolist()\n",
    "gsrVoltageFuruiBeforeNoSuit_list = dataFuruiBeforeNoSuit[\"Voltage\"].tolist()\n",
    "tempFuruiBeforeNoSuit_list = dataFuruiBeforeNoSuit[\"Temp\"].tolist()\n",
    "\n",
    "# Convert to array\n",
    "bpmFuruiBeforeNoSuit = np.array(bpmFuruiBeforeNoSuit_list)\n",
    "gsrVoltageFuruiBeforeNoSuit = np.array(gsrVoltageFuruiBeforeNoSuit_list)\n",
    "tempFuruiBeforeNoSuit = np.array(tempFuruiBeforeNoSuit_list)\n",
    "\n",
    "# Calculate the average\n",
    "bpmAverageFuruiBeforeNoSuit = np.mean(bpmFuruiBeforeNoSuit)\n",
    "gsrVoltageAverageFuruiBeforeNoSuit = np.mean(gsrVoltageFuruiBeforeNoSuit)\n",
    "tempAverageFuruiBeforeNoSuit = np.mean(tempFuruiBeforeNoSuit)\n",
    "\n",
    "# Calculate the standard deviation\n",
    "bpmFuruiBeforeNoSuit_std = np.std(bpmFuruiBeforeNoSuit)\n",
    "gsrVoltageFuruiBeforeNoSuit_std = np.std(gsrVoltageFuruiBeforeNoSuit)\n",
    "tempFuruiBeforeNoSuit_std = np.std(tempFuruiBeforeNoSuit)"
   ]
  },
  {
   "cell_type": "markdown",
   "metadata": {},
   "source": [
    "### Study with suit actuated"
   ]
  },
  {
   "cell_type": "code",
   "execution_count": 181,
   "metadata": {},
   "outputs": [
    {
     "data": {
      "text/html": [
       "<div>\n",
       "<style scoped>\n",
       "    .dataframe tbody tr th:only-of-type {\n",
       "        vertical-align: middle;\n",
       "    }\n",
       "\n",
       "    .dataframe tbody tr th {\n",
       "        vertical-align: top;\n",
       "    }\n",
       "\n",
       "    .dataframe thead th {\n",
       "        text-align: right;\n",
       "    }\n",
       "</style>\n",
       "<table border=\"1\" class=\"dataframe\">\n",
       "  <thead>\n",
       "    <tr style=\"text-align: right;\">\n",
       "      <th></th>\n",
       "      <th>BPM</th>\n",
       "      <th>GSR</th>\n",
       "      <th>Temp</th>\n",
       "      <th>Cal</th>\n",
       "      <th>Voltage</th>\n",
       "    </tr>\n",
       "  </thead>\n",
       "  <tbody>\n",
       "    <tr>\n",
       "      <th>0</th>\n",
       "      <td>72</td>\n",
       "      <td>63934</td>\n",
       "      <td>29.25</td>\n",
       "      <td>0</td>\n",
       "      <td>0.864512</td>\n",
       "    </tr>\n",
       "    <tr>\n",
       "      <th>1</th>\n",
       "      <td>70</td>\n",
       "      <td>58167</td>\n",
       "      <td>29.31</td>\n",
       "      <td>0</td>\n",
       "      <td>0.806441</td>\n",
       "    </tr>\n",
       "    <tr>\n",
       "      <th>2</th>\n",
       "      <td>70</td>\n",
       "      <td>57283</td>\n",
       "      <td>29.31</td>\n",
       "      <td>0</td>\n",
       "      <td>0.796774</td>\n",
       "    </tr>\n",
       "    <tr>\n",
       "      <th>3</th>\n",
       "      <td>77</td>\n",
       "      <td>63252</td>\n",
       "      <td>29.31</td>\n",
       "      <td>0</td>\n",
       "      <td>0.858064</td>\n",
       "    </tr>\n",
       "    <tr>\n",
       "      <th>4</th>\n",
       "      <td>70</td>\n",
       "      <td>53935</td>\n",
       "      <td>29.31</td>\n",
       "      <td>0</td>\n",
       "      <td>0.758064</td>\n",
       "    </tr>\n",
       "  </tbody>\n",
       "</table>\n",
       "</div>"
      ],
      "text/plain": [
       "   BPM    GSR   Temp  Cal   Voltage\n",
       "0   72  63934  29.25    0  0.864512\n",
       "1   70  58167  29.31    0  0.806441\n",
       "2   70  57283  29.31    0  0.796774\n",
       "3   77  63252  29.31    0  0.858064\n",
       "4   70  53935  29.31    0  0.758064"
      ]
     },
     "execution_count": 181,
     "metadata": {},
     "output_type": "execute_result"
    }
   ],
   "source": [
    "# Use the method read_csv() to load the data seat in the variable \n",
    "FuruiBeforeSuit = \"FuruiSuit/FuruiBefore.csv\"\n",
    "# import os has a function to join the strings \n",
    "fullpath = os.path.join(mainpath, FuruiBeforeSuit)\n",
    "# Use the method read_csv() to load the data seat in the variable \n",
    "dataFuruiBeforeSuit = pd.read_csv(fullpath)\n",
    "dataFuruiBeforeSuit.head()"
   ]
  },
  {
   "cell_type": "code",
   "execution_count": 182,
   "metadata": {},
   "outputs": [],
   "source": [
    "# Change the columns to a list indicating the name of the column\n",
    "bpmFuruiBeforeSuit_list = dataFuruiBeforeSuit[\"BPM\"].tolist()\n",
    "gsrVoltageFuruiBeforeSuit_list = dataFuruiBeforeSuit[\"Voltage\"].tolist()\n",
    "tempFuruiBeforeSuit_list = dataFuruiBeforeSuit[\"Temp\"].tolist()\n",
    "\n",
    "# Convert to array\n",
    "bpmFuruiBeforeSuit = np.array(bpmFuruiBeforeSuit_list)\n",
    "gsrVoltageFuruiBeforeSuit = np.array(gsrVoltageFuruiBeforeSuit_list)\n",
    "tempFuruiBeforeSuit = np.array(tempFuruiBeforeSuit_list)\n",
    "\n",
    "# Calculate the average\n",
    "bpmAverageFuruiBeforeSuit = np.mean(bpmFuruiBeforeSuit)\n",
    "gsrVoltageAverageFuruiBeforeSuit = np.mean(gsrVoltageFuruiBeforeSuit)\n",
    "tempAverageFuruiBeforeSuit = np.mean(tempFuruiBeforeSuit)\n",
    "\n",
    "# Calculate the standard deviation\n",
    "bpmFuruiBeforeSuit_std = np.std(bpmFuruiBeforeSuit)\n",
    "gsrVoltageFuruiBeforeSuit_std = np.std(gsrVoltageFuruiBeforeSuit)\n",
    "tempFuruiBeforeSuit_std = np.std(tempFuruiBeforeSuit)"
   ]
  },
  {
   "cell_type": "code",
   "execution_count": 183,
   "metadata": {},
   "outputs": [
    {
     "data": {
      "text/html": [
       "<div>\n",
       "<style scoped>\n",
       "    .dataframe tbody tr th:only-of-type {\n",
       "        vertical-align: middle;\n",
       "    }\n",
       "\n",
       "    .dataframe tbody tr th {\n",
       "        vertical-align: top;\n",
       "    }\n",
       "\n",
       "    .dataframe thead th {\n",
       "        text-align: right;\n",
       "    }\n",
       "</style>\n",
       "<table border=\"1\" class=\"dataframe\">\n",
       "  <thead>\n",
       "    <tr style=\"text-align: right;\">\n",
       "      <th></th>\n",
       "      <th>BPM</th>\n",
       "      <th>GSR</th>\n",
       "      <th>Temp</th>\n",
       "      <th>Cal</th>\n",
       "      <th>Voltage</th>\n",
       "    </tr>\n",
       "  </thead>\n",
       "  <tbody>\n",
       "    <tr>\n",
       "      <th>0</th>\n",
       "      <td>112</td>\n",
       "      <td>162857</td>\n",
       "      <td>28.25</td>\n",
       "      <td>7</td>\n",
       "      <td>1.290322</td>\n",
       "    </tr>\n",
       "    <tr>\n",
       "      <th>1</th>\n",
       "      <td>112</td>\n",
       "      <td>87789</td>\n",
       "      <td>28.25</td>\n",
       "      <td>7</td>\n",
       "      <td>1.038707</td>\n",
       "    </tr>\n",
       "    <tr>\n",
       "      <th>2</th>\n",
       "      <td>86</td>\n",
       "      <td>81890</td>\n",
       "      <td>28.19</td>\n",
       "      <td>7</td>\n",
       "      <td>1.003222</td>\n",
       "    </tr>\n",
       "    <tr>\n",
       "      <th>3</th>\n",
       "      <td>90</td>\n",
       "      <td>138759</td>\n",
       "      <td>28.12</td>\n",
       "      <td>7</td>\n",
       "      <td>1.235482</td>\n",
       "    </tr>\n",
       "    <tr>\n",
       "      <th>4</th>\n",
       "      <td>83</td>\n",
       "      <td>113856</td>\n",
       "      <td>28.12</td>\n",
       "      <td>7</td>\n",
       "      <td>1.158064</td>\n",
       "    </tr>\n",
       "  </tbody>\n",
       "</table>\n",
       "</div>"
      ],
      "text/plain": [
       "   BPM     GSR   Temp  Cal   Voltage\n",
       "0  112  162857  28.25    7  1.290322\n",
       "1  112   87789  28.25    7  1.038707\n",
       "2   86   81890  28.19    7  1.003222\n",
       "3   90  138759  28.12    7  1.235482\n",
       "4   83  113856  28.12    7  1.158064"
      ]
     },
     "execution_count": 183,
     "metadata": {},
     "output_type": "execute_result"
    }
   ],
   "source": [
    "# Use the method read_csv() to load the data seat in the variable \n",
    "FuruiAfterSuit = \"FuruiSuit/FuruiAfter.csv\"\n",
    "# import os has a function to join the strings \n",
    "fullpath = os.path.join(mainpath, FuruiAfterSuit)\n",
    "# Use the method read_csv() to load the data seat in the variable \n",
    "dataFuruiAfterSuit = pd.read_csv(fullpath)\n",
    "dataFuruiAfterSuit.head()"
   ]
  },
  {
   "cell_type": "code",
   "execution_count": 221,
   "metadata": {},
   "outputs": [],
   "source": [
    "# Change the columns to a list indicating the name of the column\n",
    "bpmFuruiAfterSuit_list = dataFuruiAfterSuit[\"BPM\"].tolist()\n",
    "gsrVoltageFuruiAfterSuit_list = dataFuruiAfterSuit[\"Voltage\"].tolist()\n",
    "tempFuruiAfterSuit_list = dataFuruiAfterSuit[\"Temp\"].tolist()\n",
    "\n",
    "# Convert to array\n",
    "bpmFuruiAfterSuit = np.array(bpmFuruiAfterSuit_list)\n",
    "gsrVoltageFuruiAfterSuit = np.array(gsrVoltageFuruiAfterSuit_list)\n",
    "tempFuruiAfterSuit = np.array(tempFuruiAfterSuit_list)\n",
    "\n",
    "# Calculate the average\n",
    "bpmAverageFuruiAfterSuit = np.mean(bpmFuruiAfterSuit)\n",
    "gsrVoltageAverageFuruiAfterSuit = np.mean(gsrVoltageFuruiAfterSuit)\n",
    "tempAverageFuruiAfterSuit = np.mean(tempFuruiAfterSuit)\n",
    "\n",
    "# Calculate the standard deviation\n",
    "bpmFuruiAfterSuit_std = np.std(bpmFuruiAfterSuit)\n",
    "gsrVoltageFuruiAfterSuit_std = np.std(gsrVoltageAfterSuit)\n",
    "tempFuruiAfterSuit_std = np.std(tempFuruiAfterSuit)"
   ]
  },
  {
   "cell_type": "code",
   "execution_count": 222,
   "metadata": {},
   "outputs": [
    {
     "name": "stdout",
     "output_type": "stream",
     "text": [
      "69.0\n",
      "75.83333333333333\n",
      "70.71428571428571\n",
      "94.1\n"
     ]
    }
   ],
   "source": [
    "print(bpmAverageFuruiBeforeNoSuit)\n",
    "print(bpmAverageFuruiAfterNoSuit)\n",
    "print(bpmAverageFuruiBeforeSuit)\n",
    "print(bpmAverageFuruiAfterSuit)"
   ]
  },
  {
   "cell_type": "code",
   "execution_count": 223,
   "metadata": {},
   "outputs": [
    {
     "name": "stdout",
     "output_type": "stream",
     "text": [
      "0.08682178974844486\n",
      "0.03648001530370375\n",
      "0.04977194897582119\n",
      "0.07855753624480691\n"
     ]
    }
   ],
   "source": [
    "print(gsrVoltageFuruiBeforeNoSuit_std)\n",
    "print(gsrVoltageFuruiAfterNoSuit_std)\n",
    "print(gsrVoltageFuruiBeforeSuit_std)\n",
    "print(gsrVoltageFuruiAfterSuit_std)"
   ]
  },
  {
   "cell_type": "code",
   "execution_count": 224,
   "metadata": {
    "scrolled": true
   },
   "outputs": [
    {
     "data": {
      "image/png": "[encoded data removed]",
      "text/plain": [
       "<Figure size 432x288 with 1 Axes>"
      ]
     },
     "metadata": {
      "needs_background": "light"
     },
     "output_type": "display_data"
    }
   ],
   "source": [
    "# Create lists for the plot\n",
    "Conditions = ['Before No Suit Actuated', 'After No Suit Actuated', 'Before Suit Actuated', 'After Suit Actuated']\n",
    "x_pos = np.arange(len(Conditions))\n",
    "BPM = [bpmAverageFuruiBeforeNoSuit, bpmAverageFuruiAfterNoSuit, bpmAverageFuruiBeforeSuit, bpmAverageFuruiAfterSuit]\n",
    "error = [bpmFuruiBeforeNoSuit_std, bpmFuruiAfterNoSuit_std, bpmFuruiBeforeSuit_std, bpmFuruiAfterSuit_std]\n",
    "\n",
    "# Build the plot\n",
    "fig, ax = plt.subplots()\n",
    "ax.bar(x_pos, BPM, yerr=error, align='center', alpha=0.5, ecolor='black', capsize=10)\n",
    "ax.set_ylabel('Beats Per Minute')\n",
    "ax.set_xticks(x_pos)\n",
    "ax.set_xticklabels(Conditions)\n",
    "ax.set_title('Cases of study')\n",
    "ax.yaxis.grid(True)\n",
    "\n",
    "plt.setp(ax.get_xticklabels(), rotation=30, horizontalalignment='right')\n",
    "\n",
    "# Save the figure and show\n",
    "plt.tight_layout()\n",
    "# plt.savefig('bar_plot_with_error_bars.png')\n",
    "plt.show()"
   ]
  },
  {
   "cell_type": "code",
   "execution_count": 234,
   "metadata": {},
   "outputs": [
    {
     "data": {
      "image/png": "[encoded data removed]",
      "text/plain": [
       "<Figure size 432x288 with 1 Axes>"
      ]
     },
     "metadata": {
      "needs_background": "light"
     },
     "output_type": "display_data"
    }
   ],
   "source": [
    "plt.plot(gsrVoltageFuruiBeforeNoSuit, label='Before no suit')\n",
    "plt.plot(gsrVoltageFuruiAfterNoSuit, label='After no suit')\n",
    "plt.plot(gsrVoltageFuruiBeforeSuit, label='Before suit')\n",
    "plt.plot(gsrVoltageAfterSuit, label='After suit')\n",
    "plt.xlabel('Number of samples in 30 seconds')\n",
    "plt.ylabel('Voltage')\n",
    "plt.legend(bbox_to_anchor=(0., 1.02, 1., .102), loc=3,\n",
    "           ncol=2, mode=\"expand\", borderaxespad=0.)\n",
    "plt.show()"
   ]
  },
  {
   "cell_type": "code",
   "execution_count": 236,
   "metadata": {},
   "outputs": [
    {
     "data": {
      "image/png": "[encoded data removed]",
      "text/plain": [
       "<Figure size 432x288 with 1 Axes>"
      ]
     },
     "metadata": {
      "needs_background": "light"
     },
     "output_type": "display_data"
    }
   ],
   "source": [
    "# Create lists for the plot\n",
    "Conditions = ['Before No Suit Actuated', 'After No Suit Actuated', 'Before Suit Actuated', 'After Suit Actuated']\n",
    "x_pos = np.arange(len(Conditions))\n",
    "BPM = [gsrVoltageAverageFuruiBeforeNoSuit, gsrAverageVoltageFuruiAfterNoSuit, gsrVoltageAverageFuruiBeforeSuit, gsrVoltageAverageFuruiAfterSuit]\n",
    "error = [gsrVoltageFuruiBeforeNoSuit_std, gsrVoltageFuruiAfterNoSuit_std, gsrVoltageFuruiBeforeSuit_std, gsrVoltageFuruiAfterSuit_std]\n",
    "\n",
    "# Build the plot\n",
    "fig, ax = plt.subplots()\n",
    "ax.bar(x_pos, BPM, yerr=error, align='center', alpha=0.5, ecolor='black', capsize=10)\n",
    "ax.set_ylabel('GSR sensor voltage')\n",
    "ax.set_xticks(x_pos)\n",
    "ax.set_xticklabels(Conditions)\n",
    "ax.set_title('Cases of study')\n",
    "ax.yaxis.grid(True)\n",
    "\n",
    "plt.setp(ax.get_xticklabels(), rotation=30, horizontalalignment='right')\n",
    "\n",
    "# Save the figure and show\n",
    "plt.tight_layout()\n",
    "# plt.savefig('bar_plot_with_error_bars.png')\n",
    "plt.show()"
   ]
  },
  {
   "cell_type": "code",
   "execution_count": null,
   "metadata": {},
   "outputs": [],
   "source": []
  }
 ],
 "metadata": {
  "kernelspec": {
   "display_name": "Python 3",
   "language": "python",
   "name": "python3"
  },
  "language_info": {
   "codemirror_mode": {
    "name": "ipython",
    "version": 3
   },
   "file_extension": ".py",
   "mimetype": "text/x-python",
   "name": "python",
   "nbconvert_exporter": "python",
   "pygments_lexer": "ipython3",
   "version": "3.7.1"
  }
 },
 "nbformat": 4,
 "nbformat_minor": 2
}
